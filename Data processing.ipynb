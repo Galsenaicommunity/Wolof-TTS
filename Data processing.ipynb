{
  "nbformat": 4,
  "nbformat_minor": 0,
  "metadata": {
    "colab": {
      "provenance": []
    },
    "kernelspec": {
      "name": "python3",
      "display_name": "Python 3"
    },
    "language_info": {
      "name": "python"
    }
  },
  "cells": [
    {
      "cell_type": "markdown",
      "source": [
        "#Traitement et Préparation de Données Audio pour un Dataset"
      ],
      "metadata": {
        "id": "a5r7_UsaRyBv"
      }
    },
    {
      "cell_type": "markdown",
      "source": [
        "##### Ce code est conçu pour lire des fichiers audio au format WAV, les convertir en un format manipulable par NumPy, puis les intégrer dans un dataset au format compatible avec les bibliothèques de machine learning comme Hugging Face datasets. Le processus comprend également un nettoyage du texte associé aux fichiers audio."
      ],
      "metadata": {
        "id": "UBEeTZ0eSFsz"
      }
    },
    {
      "cell_type": "markdown",
      "source": [
        "### Importation des Bibliothèques"
      ],
      "metadata": {
        "id": "Faozv91xSP0Q"
      }
    },
    {
      "cell_type": "markdown",
      "source": [
        "#### Le code commence par l'importation des bibliothèques nécessaires :"
      ],
      "metadata": {
        "id": "H-feqJqvSUmD"
      }
    },
    {
      "cell_type": "code",
      "source": [
        "!pip install datasets"
      ],
      "metadata": {
        "id": "0rcfdRHMY6GJ"
      },
      "execution_count": null,
      "outputs": []
    },
    {
      "cell_type": "code",
      "source": [
        "import wave\n",
        "import numpy as np\n",
        "from datasets import Dataset, Features, Value, Audio, load_dataset\n",
        "import pandas as pd"
      ],
      "metadata": {
        "id": "JU-vpi28FKMi"
      },
      "execution_count": null,
      "outputs": []
    },
    {
      "cell_type": "markdown",
      "source": [
        "##### Bibliothèques utilisées :"
      ],
      "metadata": {
        "id": "V1XzV-ygSobt"
      }
    },
    {
      "cell_type": "markdown",
      "source": [
        "\n",
        "\n",
        "*   wave : Utilisé pour manipuler les fichiers audio au format WAV.\n",
        "* numpy : Manipule les données sous forme de tableaux multidimensionnels.\n",
        "* datasets : Une bibliothèque de Hugging Face utilisée pour créer et manipuler des datasets.\n",
        "* pandas : Utilisé pour la gestion et la manipulation des fichiers CSV contenant des métadonnées.\n",
        "\n"
      ],
      "metadata": {
        "id": "Dtk_zJttS-b7"
      }
    },
    {
      "cell_type": "markdown",
      "source": [
        "### Lecture d'un Fichier WAV"
      ],
      "metadata": {
        "id": "SyVubIg3TTFk"
      }
    },
    {
      "cell_type": "markdown",
      "source": [
        "###### La fonction suivante lit un fichier audio au format WAV et renvoie ses données sous forme de tableau NumPy ainsi que la fréquence d'échantillonnage :"
      ],
      "metadata": {
        "id": "ibh9cbyaTZTI"
      }
    },
    {
      "cell_type": "code",
      "source": [
        "def read_wav_file(file_path):\n",
        "    \"\"\"Reads a WAV file and returns the audio data as a NumPy array.\n",
        "    Args:\n",
        "        file_path: Path to the WAV file.\n",
        "    Returns:\n",
        "        A tuple containing:\n",
        "            - The audio data as a NumPy array.\n",
        "            - The sample rate of the audio.\n",
        "    \"\"\"\n",
        "    with wave.open(file_path, 'rb') as wf:\n",
        "        num_channels = wf.getnchannels()\n",
        "        sample_width = wf.getsampwidth()\n",
        "        frame_rate = wf.getframerate()\n",
        "        num_frames = wf.getnframes()\n",
        "        audio_data = wf.readframes(num_frames)\n",
        "        audio_data = np.frombuffer(audio_data, dtype=np.int16)\n",
        "        if num_channels == 2:\n",
        "            audio_data = audio_data.reshape(-1, 2)\n",
        "    return audio_data, frame_rate"
      ],
      "metadata": {
        "id": "zQDajpBBS4NC"
      },
      "execution_count": null,
      "outputs": []
    },
    {
      "cell_type": "markdown",
      "source": [
        "#### Explication :"
      ],
      "metadata": {
        "id": "s-GvsGZLTqpH"
      }
    },
    {
      "cell_type": "markdown",
      "source": [
        "\n",
        "\n",
        "\n",
        "\n",
        "\n",
        "*   wave.open() ouvre le fichier audio.\n",
        "\n",
        "*   getnchannels(), getsampwidth(), getframerate(), et getnframes() récupèrent des informations importantes\n",
        " comme le nombre de canaux, la largeur des échantillons, la fréquence d'échantillonnage et le nombre d'images.\n",
        "*   readframes() lit les données audio brutes.\n",
        "\n",
        "\n",
        "*   np.frombuffer() convertit ces données brutes en un tableau NumPy.\n",
        "\n",
        "*   Si le fichier audio a deux canaux (stéréo), il est réorganisé en deux colonnes.\n",
        "\n",
        "\n",
        "\n"
      ],
      "metadata": {
        "id": "WLnRqPKxTx10"
      }
    },
    {
      "cell_type": "markdown",
      "source": [
        "### Chargement du Fichier CSV de Métadonnées"
      ],
      "metadata": {
        "id": "rC0n8yeDUXYH"
      }
    },
    {
      "cell_type": "markdown",
      "source": [
        "##### Le fichier CSV est chargé avec pandas et contient les noms des fichiers audio ainsi que le texte associé :"
      ],
      "metadata": {
        "id": "YKyjy5kqUeCf"
      }
    },
    {
      "cell_type": "code",
      "source": [
        "data = pd.read_csv('/folder_path/metadata.csv', sep='|', header=None, on_bad_lines='skip')"
      ],
      "metadata": {
        "id": "_bkB4jzHTvBM"
      },
      "execution_count": null,
      "outputs": []
    },
    {
      "cell_type": "markdown",
      "source": [
        "###### Ici, metadata.csv contient des informations comme le nom des fichiers audio et leur transcription associée. Le séparateur utilisé est le caractère |, et la gestion des lignes incorrectes est configurée pour les sauter"
      ],
      "metadata": {
        "id": "m_JwyAWDVwOf"
      }
    },
    {
      "cell_type": "markdown",
      "source": [
        "### Nettoyage et Préparation des Données"
      ],
      "metadata": {
        "id": "WORGs9kDV4Rh"
      }
    },
    {
      "cell_type": "markdown",
      "source": [
        "#### La fonction suivante est utilisée pour lire les fichiers audio et nettoyer le texte correspondant :"
      ],
      "metadata": {
        "id": "Kz1oYwUnWAP-"
      }
    },
    {
      "cell_type": "code",
      "source": [
        "def cleaner(el, text):\n",
        "    audio_array, sampling_rate = read_wav_file(f'/folder_path/wavs/{el}')\n",
        "    text_cleaned = text.replace(';', \"\")\n",
        "    return {\n",
        "        \"text\": text_cleaned,\n",
        "        \"gender\": \"female\",\n",
        "        \"audio\": {\"array\": audio_array, \"sampling_rate\": sampling_rate}\n",
        "        }\n"
      ],
      "metadata": {
        "id": "XJDZo97NVz10"
      },
      "execution_count": null,
      "outputs": []
    },
    {
      "cell_type": "markdown",
      "source": [
        "#### Explication :"
      ],
      "metadata": {
        "id": "2bPZtiSYWin_"
      }
    },
    {
      "cell_type": "markdown",
      "source": [
        "\n",
        "\n",
        "*    La fonction cleaner lit les données audio en appelant la fonction read_wav_file() pour chaque fichier mentionné dans le fichier CSV.\n",
        "*   Elle nettoie également le texte associé en supprimant certains caractères indésirables (comme les points-virgules).\n",
        "\n",
        "*   Les données sont ensuite renvoyées sous la forme d'un dictionnaire contenant l'audio (tableau et taux\n",
        " d'échantillonnage), le texte nettoyé, et un attribut de genre (ici fixé à \"female\")\n",
        "\n"
      ],
      "metadata": {
        "id": "I-NdPU18WkVV"
      }
    },
    {
      "cell_type": "markdown",
      "source": [
        "### Création d'un Dictionnaire"
      ],
      "metadata": {
        "id": "QueHi7fmXFNo"
      }
    },
    {
      "cell_type": "markdown",
      "source": [
        "#####  Le code suivant applique la fonction cleaner à chaque élément et transcription du fichier CSV pour créer une liste de dictionnaires :"
      ],
      "metadata": {
        "id": "d1wD6NJaXVmt"
      }
    },
    {
      "cell_type": "code",
      "source": [
        "dic = [cleaner(el, text) for el, text in zip(data[0], data[1])]"
      ],
      "metadata": {
        "id": "igEscSopWjxa"
      },
      "execution_count": null,
      "outputs": []
    },
    {
      "cell_type": "markdown",
      "source": [
        "### Création et Formatage du Dataset"
      ],
      "metadata": {
        "id": "q6NzwbHsXutP"
      }
    },
    {
      "cell_type": "markdown",
      "source": [
        "#### Les données sont ensuite transformées en un dataset Hugging Face :"
      ],
      "metadata": {
        "id": "4NIOya3zX2U2"
      }
    },
    {
      "cell_type": "code",
      "source": [
        "dataset = Dataset.from_list(dic)"
      ],
      "metadata": {
        "id": "9aiGwpCRXv28"
      },
      "execution_count": null,
      "outputs": []
    },
    {
      "cell_type": "markdown",
      "source": [
        "#### Ensuite, les features (caractéristiques) du dataset sont définies, précisant que la colonne audio contient des données audio, et la colonne text contient des chaînes de caractères.\n"
      ],
      "metadata": {
        "id": "_TUYEwBfX8XS"
      }
    },
    {
      "cell_type": "code",
      "source": [
        "features = Features({\n",
        "    'audio': Audio(sampling_rate=16000),\n",
        "    'text': Value('string'),\n",
        "})"
      ],
      "metadata": {
        "id": "xYDdqtrHYB5r"
      },
      "execution_count": null,
      "outputs": []
    },
    {
      "cell_type": "markdown",
      "source": [
        "### Casting du Dataset"
      ],
      "metadata": {
        "id": "TxmzU4pVYLYI"
      }
    },
    {
      "cell_type": "markdown",
      "source": [
        "#### Finalement, les features sont appliquées au dataset en utilisant la méthode cast() :"
      ],
      "metadata": {
        "id": "g1NjKN56YT39"
      }
    },
    {
      "cell_type": "code",
      "source": [
        "dataset = dataset.cast(features)"
      ],
      "metadata": {
        "id": "T_-Tmg_3YPbv"
      },
      "execution_count": null,
      "outputs": []
    },
    {
      "cell_type": "markdown",
      "source": [
        "#### Cela assure que les données audio sont correctement formatées avec une fréquence d'échantillonnage de 16 000 Hz et que le texte est reconnu comme des chaînes de caractères."
      ],
      "metadata": {
        "id": "HDK-O97ZYbSE"
      }
    },
    {
      "cell_type": "markdown",
      "source": [
        "\n",
        "\n",
        "---\n",
        "\n"
      ],
      "metadata": {
        "id": "3dh1uBJ4YiOH"
      }
    },
    {
      "cell_type": "markdown",
      "source": [
        "###  Conclusion"
      ],
      "metadata": {
        "id": "fvBT9NKxYl98"
      }
    },
    {
      "cell_type": "markdown",
      "source": [
        "####  Ce code permet de transformer des fichiers audio WAV et leurs métadonnées associées en un dataset structuré, prêt à être utilisé dans des tâches de traitement automatique du langage ou d'apprentissage machine, en particulier pour des modèles de Text-to-Speech (TTS) ou de reconnaissance vocale."
      ],
      "metadata": {
        "id": "srcRLgiGYn9I"
      }
    }
  ]
}