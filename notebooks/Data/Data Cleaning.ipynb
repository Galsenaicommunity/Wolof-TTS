{
 "cells": [
  {
   "cell_type": "markdown",
   "id": "519a109f-4e28-4587-9349-c0036a2062a5",
   "metadata": {},
   "source": [
    "# AI-driven audio enhancement for your audio files, powered by [Resemble AI](https://github.com/resemble-ai/resemble-enhance)\n",
    "We're going to use this library to clean up the female voice of the [Wolof Audio TTS](https://huggingface.co/datasets/galsenai/wolof_tts) dataset to remove microphone background noise and boost the volume of the audios.\n",
    "> This notebook is made by [Derguene](https://github.com/DerXter)"
   ]
  },
  {
   "cell_type": "markdown",
   "id": "370ac9c4-3971-4841-8d7b-79ad78a65499",
   "metadata": {},
   "source": [
    "## Intalling the library + dependencies"
   ]
  },
  {
   "cell_type": "code",
   "execution_count": null,
   "id": "f38e517f-78d3-4d4c-9457-9af434c576e5",
   "metadata": {},
   "outputs": [],
   "source": [
    "!pip install soundfile\n",
    "!git clone https://github.com/resemble-ai/resemble-enhance.git\n",
    "!pip install -e resemble-enhance/"
   ]
  },
  {
   "cell_type": "markdown",
   "id": "db5ffaef-6e49-4f72-b4ef-a21e7b54b63a",
   "metadata": {},
   "source": [
    "## Denoising and Enhancement"
   ]
  },
  {
   "cell_type": "code",
   "execution_count": null,
   "id": "4843cf36-9692-4648-bb9a-55bc50767263",
   "metadata": {},
   "outputs": [],
   "source": [
    "from resemble_enhance.enhancer.inference import denoise, enhance\n",
    "import torch\n",
    "import torchaudio\n",
    "\n",
    "if torch.cuda.is_available():\n",
    "    device = \"cuda\"\n",
    "else:\n",
    "    device = \"cpu\""
   ]
  },
  {
   "cell_type": "markdown",
   "id": "5d1ccfd1-c7a5-4b99-aa04-56693907f5fc",
   "metadata": {},
   "source": [
    "### Parameters\n",
    "* __NFE__ = Number of Function Evaluations (higher values in general yield better quality but may be slower)\n",
    "* __TAU__ = Prior Temperature (higher values can improve quality but can reduce stability)\n",
    "* __Solver__ = CFM ODE Solver (Midpoint is recommended)\n",
    "> __CFM__ = Conditional Flow Matching model"
   ]
  },
  {
   "cell_type": "code",
   "execution_count": null,
   "id": "fb18ede4-af84-431e-bf98-4f9255e6e1c7",
   "metadata": {},
   "outputs": [],
   "source": [
    "def denoise_and_enhance(path, solver, nfe, tau, denoising):\n",
    "    \"\"\" return (sample rate, denoised\n",
    "    \"\"\"\n",
    "\n",
    "    solver = solver.lower()\n",
    "    nfe    = int(nfe)\n",
    "    lambd  = 0.9 if denoising else 0.1\n",
    "\n",
    "    dwav, sr = torchaudio.load(path)\n",
    "    dwav     = dwav.mean(dim=0)\n",
    "\n",
    "    wav1, new_sr = denoise(dwav, sr, device)\n",
    "    wav2, new_sr = enhance(dwav, sr, device, \n",
    "                           nfe=nfe, solver=solver, \n",
    "                           lambd=lambd, tau=tau)\n",
    "\n",
    "    wav1 = wav1.cpu().numpy()\n",
    "    wav2 = wav2.cpu().numpy()\n",
    "\n",
    "    return (new_sr, wav1), (new_sr, wav2)"
   ]
  },
  {
   "cell_type": "code",
   "execution_count": null,
   "id": "851fc06c-0cb2-48bc-9b4c-da1ab26242ba",
   "metadata": {},
   "outputs": [],
   "source": [
    "from pathlib import Path\n",
    "\n",
    "data_dir = \"path/to/your/input/dir/\"\n",
    "audios = list(Path(data_dir).rglob(f'*.wav'))\n",
    "\n",
    "print(f\"There are {len(audios)} raw audio files!\")"
   ]
  },
  {
   "cell_type": "code",
   "execution_count": null,
   "id": "79daabd1-021d-46c7-889e-dad3ef3ff97d",
   "metadata": {},
   "outputs": [],
   "source": [
    "import soundfile as sf\n",
    "from tqdm import tqdm\n",
    "\n",
    "for audio in audios:\n",
    "\n",
    "    output = denoise_and_enhance(path  = audio,\n",
    "                                 solver = \"Midpoint\",\n",
    "                                 nfe    = 64,\n",
    "                                 tau    = 0.7,\n",
    "                                 denoising = True\n",
    "                                 )\n",
    "\n",
    "    output_dir  = 'path/to/your/output/dir/'\n",
    "    file_name   = str(audio).split('/')[-1] # To be adapted\n",
    "    audio_array = output[1][1]\n",
    "    sample_rate = output[1][0]\n",
    "    \n",
    "    sf.write(output_dir+file_name, \n",
    "             audio_array, \n",
    "             sample_rate, \n",
    "             format='wav')\n",
    "\n",
    "cleaned_audios = list(Path(output_dir).rglob(f'*.wav'))\n",
    "print(f\"{len(cleaned_audios)} audio files successfully cleaned\")"
   ]
  },
  {
   "cell_type": "code",
   "execution_count": null,
   "id": "52610828-cda8-44b6-9044-8e01f64a0d29",
   "metadata": {},
   "outputs": [],
   "source": []
  }
 ],
 "metadata": {
  "kernelspec": {
   "display_name": "Python 3 (ipykernel)",
   "language": "python",
   "name": "python3"
  },
  "language_info": {
   "codemirror_mode": {
    "name": "ipython",
    "version": 3
   },
   "file_extension": ".py",
   "mimetype": "text/x-python",
   "name": "python",
   "nbconvert_exporter": "python",
   "pygments_lexer": "ipython3",
   "version": "3.9.2"
  }
 },
 "nbformat": 4,
 "nbformat_minor": 5
}
