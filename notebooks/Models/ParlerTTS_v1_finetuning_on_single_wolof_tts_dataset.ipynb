{
 "cells": [
  {
   "cell_type": "markdown",
   "metadata": {
    "id": "MLJ1AkLe9hoc"
   },
   "source": [
    "# Fine-tuning Parler-TTS\n",
    "\n",
    "## Goal of this notebook\n",
    "\n",
    "In the following notebook, we'll fine-tune [Parler-TTS Mini v1](https://huggingface.co/parler-tts/parler-tts-mini-v1) on the `18h 47mn 19s` *female* voice of the [Galsen AI TTS dataset](https://huggingface.co/datasets/galsenai/wolof_tts).\n",
    "\n",
    "In particular, we'll:\n",
    "- Annotate the dataset with natural language speech description using [Data-Speech](https://github.com/huggingface/dataspeech).\n",
    "- Fine-tune Parler-TTS with the created dataset.\n",
    "\n",
    "**You should be able to adapt this notebook to your own datasets quite easily.**\n",
    "\n",
    "\n",
    "\n"
   ]
  },
  {
   "cell_type": "markdown",
   "metadata": {
    "id": "S9bSVQddWsYd",
    "tags": []
   },
   "source": [
    "## Prepare the Environment\n",
    "\n",
    "Throughout this tutorial, we'll use a GPU. The runtime is already configured to use the free 16GB T4 GPU provided through Google Colab Free Tier, so all you need to do is hit \"Connect T4\" in the top right-hand corner of the screen.\n",
    "\n",
    "##### <a name=\"installation\"> We'll install Parler-TTS and Data-Speech from source in order to train our model."
   ]
  },
  {
   "cell_type": "code",
   "execution_count": 4,
   "metadata": {
    "tags": []
   },
   "outputs": [
    {
     "name": "stdout",
     "output_type": "stream",
     "text": [
      "/home/caytu\n",
      "Wolof-ASR  Wolof-TTS\n"
     ]
    }
   ],
   "source": [
    "%cd ../\n",
    "!ls"
   ]
  },
  {
   "cell_type": "code",
   "execution_count": null,
   "metadata": {
    "colab": {
     "base_uri": "https://localhost:8080/"
    },
    "id": "yDc_drcQW9ER",
    "outputId": "64241ce6-b930-479f-bd56-d25a93038521",
    "tags": []
   },
   "outputs": [],
   "source": [
    "!cd src\n",
    "!git clone https://github.com/huggingface/dataspeech.git\n",
    "!pip install --quiet -r ./dataspeech/requirements.txt"
   ]
  },
  {
   "cell_type": "code",
   "execution_count": null,
   "metadata": {
    "colab": {
     "base_uri": "https://localhost:8080/"
    },
    "id": "9UOazOyVYnq8",
    "outputId": "cc1ffda4-e43b-4ae6-ce89-f07ba154a2d4"
   },
   "outputs": [],
   "source": [
    "!git clone https://github.com/huggingface/parler-tts.git\n",
    "%cd parler-tts\n",
    "!pip install --quiet -e .[train]"
   ]
  },
  {
   "cell_type": "markdown",
   "metadata": {
    "id": "MP3ZacMeMAl1"
   },
   "source": [
    "On Colab, we need to run an additional set-up, that you can skip if you're on your local machine."
   ]
  },
  {
   "cell_type": "code",
   "execution_count": null,
   "metadata": {
    "id": "529KHiVeL7o5"
   },
   "outputs": [],
   "source": [
    "!pip install --upgrade protobuf wandb==0.16.6"
   ]
  },
  {
   "cell_type": "markdown",
   "metadata": {
    "id": "BHcAWvgsc3if"
   },
   "source": [
    "You should link you Hugging Face account so that you can push model repositories on the Hub. This will allow you to save your trained models on the Hub so that you can share them with the community.\n",
    "\n",
    "Run the command below and then enter an authentication token from https://huggingface.co/settings/tokens. Create a new token if you do not have one already. You should make sure that this token has \"write\" privileges."
   ]
  },
  {
   "cell_type": "code",
   "execution_count": 9,
   "metadata": {
    "tags": []
   },
   "outputs": [
    {
     "data": {
      "text/plain": [
       "True"
      ]
     },
     "execution_count": 9,
     "metadata": {},
     "output_type": "execute_result"
    }
   ],
   "source": [
    "from dotenv import load_dotenv\n",
    "\n",
    "load_dotenv()  # take environment variables from .env."
   ]
  },
  {
   "cell_type": "code",
   "execution_count": 10,
   "metadata": {
    "tags": []
   },
   "outputs": [],
   "source": [
    "import os\n",
    "\n",
    "hf_token = os.getenv('HF_TOKEN')"
   ]
  },
  {
   "cell_type": "code",
   "execution_count": 11,
   "metadata": {
    "id": "1sqGeBSLc3Dc",
    "tags": []
   },
   "outputs": [
    {
     "name": "stderr",
     "output_type": "stream",
     "text": [
      "huggingface/tokenizers: The current process just got forked, after parallelism has already been used. Disabling parallelism to avoid deadlocks...\n",
      "To disable this warning, you can either:\n",
      "\t- Avoid using `tokenizers` before the fork if possible\n",
      "\t- Explicitly set the environment variable TOKENIZERS_PARALLELISM=(true | false)\n",
      "huggingface/tokenizers: The current process just got forked, after parallelism has already been used. Disabling parallelism to avoid deadlocks...\n",
      "To disable this warning, you can either:\n",
      "\t- Avoid using `tokenizers` before the fork if possible\n",
      "\t- Explicitly set the environment variable TOKENIZERS_PARALLELISM=(true | false)\n"
     ]
    },
    {
     "name": "stdout",
     "output_type": "stream",
     "text": [
      "The token has not been saved to the git credentials helper. Pass `add_to_git_credential=True` in this function directly or `--add-to-git-credential` if using via `huggingface-cli` if you want to set the git credential as well.\n",
      "Token is valid (permission: write).\n",
      "The token `galsenai` has been saved to /home/caytu/.cache/huggingface/stored_tokens\n",
      "Your token has been saved to /home/caytu/.cache/huggingface/token\n",
      "Login successful.\n",
      "Note: Environment variable`HF_TOKEN` is set and is the current active token independently from the token you've just configured.\n"
     ]
    }
   ],
   "source": [
    "!git config --global credential.helper store\n",
    "!huggingface-cli login --token $hf_token"
   ]
  },
  {
   "cell_type": "markdown",
   "metadata": {
    "id": "qNoXV90dWJTx",
    "tags": []
   },
   "source": [
    "## 1. Creating our fine-tuning dataset\n",
    "\n",
    "\n",
    "The aim here is to create an annotated version of Anta TTS, in order to fine-tune the [Parler-TTS Mini v1 checkpoint](https://huggingface.co/parler-tts/parler-tts-mini-v1) on this dataset.\n",
    "\n",
    "Thanks to a [script similar to what's described in the Data-Speech FAQ](https://github.com/huggingface/dataspeech?tab=readme-ov-file#how-do-i-use-datasets-that-i-have-with-this-repository), we've uploaded the dataset to the HuggingFace hub, under the name [galsenai/wolof_tts](https://huggingface.co/datasets/galsenai/wolof_tts).\n",
    "\n",
    "The purpose of this notebook is demonstration so we'll filter the dataset in order to have only female voice and save it under the name [galsenai/women_wolof_tts](https://huggingface.co/datasets/galsenai/women_wolof_tts).\n",
    "\n",
    "Feel free to follow the link above to listen to some samples of the TTS dataset thanks to the hub viewer.\n",
    "\n",
    "We'll:\n",
    "1. Annotate the dataset with continuous variables that measures the speech characteristics\n",
    "2. Map those annotations to text bins that characterize the speech characteristics.\n",
    "3. Create natural language descriptions from those text bins"
   ]
  },
  {
   "cell_type": "code",
   "execution_count": 3,
   "metadata": {
    "id": "mxPtHsQkZa2g",
    "tags": []
   },
   "outputs": [
    {
     "name": "stdout",
     "output_type": "stream",
     "text": [
      "/home/caytu/Wolof-TTS/src/dataspeech\n"
     ]
    }
   ],
   "source": [
    "%cd ../src/dataspeech"
   ]
  },
  {
   "cell_type": "code",
   "execution_count": null,
   "metadata": {
    "id": "XNnTOR7sWoPq",
    "tags": []
   },
   "outputs": [],
   "source": [
    "!pip install datasets"
   ]
  },
  {
   "cell_type": "code",
   "execution_count": 4,
   "metadata": {
    "id": "kYSH-EfiZv7D",
    "tags": []
   },
   "outputs": [
    {
     "data": {
      "application/vnd.jupyter.widget-view+json": {
       "model_id": "97cd9b6afde948d787781b61c81ccc08",
       "version_major": 2,
       "version_minor": 0
      },
      "text/plain": [
       "README.md:   0%|          | 0.00/1.90k [00:00<?, ?B/s]"
      ]
     },
     "metadata": {},
     "output_type": "display_data"
    },
    {
     "data": {
      "application/vnd.jupyter.widget-view+json": {
       "model_id": "9c84a1c433bd4436b11fe92ada59ca3c",
       "version_major": 2,
       "version_minor": 0
      },
      "text/plain": [
       "train-00000-of-00012.parquet:   0%|          | 0.00/377M [00:00<?, ?B/s]"
      ]
     },
     "metadata": {},
     "output_type": "display_data"
    },
    {
     "data": {
      "application/vnd.jupyter.widget-view+json": {
       "model_id": "3badebb3f20442cfb551c3effbf71aeb",
       "version_major": 2,
       "version_minor": 0
      },
      "text/plain": [
       "train-00001-of-00012.parquet:   0%|          | 0.00/380M [00:00<?, ?B/s]"
      ]
     },
     "metadata": {},
     "output_type": "display_data"
    },
    {
     "data": {
      "application/vnd.jupyter.widget-view+json": {
       "model_id": "35f549fbeed14e448919677351273d94",
       "version_major": 2,
       "version_minor": 0
      },
      "text/plain": [
       "train-00002-of-00012.parquet:   0%|          | 0.00/383M [00:00<?, ?B/s]"
      ]
     },
     "metadata": {},
     "output_type": "display_data"
    },
    {
     "data": {
      "application/vnd.jupyter.widget-view+json": {
       "model_id": "4750e11843674b5692b49bcbb7b16176",
       "version_major": 2,
       "version_minor": 0
      },
      "text/plain": [
       "train-00003-of-00012.parquet:   0%|          | 0.00/385M [00:00<?, ?B/s]"
      ]
     },
     "metadata": {},
     "output_type": "display_data"
    },
    {
     "data": {
      "application/vnd.jupyter.widget-view+json": {
       "model_id": "8e00b7f0840244d7a9daba96b9a99872",
       "version_major": 2,
       "version_minor": 0
      },
      "text/plain": [
       "train-00004-of-00012.parquet:   0%|          | 0.00/386M [00:00<?, ?B/s]"
      ]
     },
     "metadata": {},
     "output_type": "display_data"
    },
    {
     "data": {
      "application/vnd.jupyter.widget-view+json": {
       "model_id": "a3bc60bcad524293a2e36f51583796f5",
       "version_major": 2,
       "version_minor": 0
      },
      "text/plain": [
       "train-00005-of-00012.parquet:   0%|          | 0.00/382M [00:00<?, ?B/s]"
      ]
     },
     "metadata": {},
     "output_type": "display_data"
    },
    {
     "data": {
      "application/vnd.jupyter.widget-view+json": {
       "model_id": "948a3c8978734b54a7f9e36e26212ceb",
       "version_major": 2,
       "version_minor": 0
      },
      "text/plain": [
       "train-00006-of-00012.parquet:   0%|          | 0.00/386M [00:00<?, ?B/s]"
      ]
     },
     "metadata": {},
     "output_type": "display_data"
    },
    {
     "data": {
      "application/vnd.jupyter.widget-view+json": {
       "model_id": "6aeac9fa286a4375acfc3599253ecc12",
       "version_major": 2,
       "version_minor": 0
      },
      "text/plain": [
       "train-00007-of-00012.parquet:   0%|          | 0.00/393M [00:00<?, ?B/s]"
      ]
     },
     "metadata": {},
     "output_type": "display_data"
    },
    {
     "data": {
      "application/vnd.jupyter.widget-view+json": {
       "model_id": "f43d312006b8457f8992dcb364b8923d",
       "version_major": 2,
       "version_minor": 0
      },
      "text/plain": [
       "train-00008-of-00012.parquet:   0%|          | 0.00/383M [00:00<?, ?B/s]"
      ]
     },
     "metadata": {},
     "output_type": "display_data"
    },
    {
     "data": {
      "application/vnd.jupyter.widget-view+json": {
       "model_id": "3b43b999d3404ac396a81dd3a53c9bd0",
       "version_major": 2,
       "version_minor": 0
      },
      "text/plain": [
       "train-00009-of-00012.parquet:   0%|          | 0.00/382M [00:00<?, ?B/s]"
      ]
     },
     "metadata": {},
     "output_type": "display_data"
    },
    {
     "data": {
      "application/vnd.jupyter.widget-view+json": {
       "model_id": "2b689a965e8545109b1c15f7401da864",
       "version_major": 2,
       "version_minor": 0
      },
      "text/plain": [
       "train-00010-of-00012.parquet:   0%|          | 0.00/401M [00:00<?, ?B/s]"
      ]
     },
     "metadata": {},
     "output_type": "display_data"
    },
    {
     "data": {
      "application/vnd.jupyter.widget-view+json": {
       "model_id": "ac3bd39182dc481fb84a3531d1165e4b",
       "version_major": 2,
       "version_minor": 0
      },
      "text/plain": [
       "train-00011-of-00012.parquet:   0%|          | 0.00/377M [00:00<?, ?B/s]"
      ]
     },
     "metadata": {},
     "output_type": "display_data"
    },
    {
     "data": {
      "application/vnd.jupyter.widget-view+json": {
       "model_id": "884c682c0c7c4a86a498d61be652ca5a",
       "version_major": 2,
       "version_minor": 0
      },
      "text/plain": [
       "Generating train split:   0%|          | 0/19918 [00:00<?, ? examples/s]"
      ]
     },
     "metadata": {},
     "output_type": "display_data"
    }
   ],
   "source": [
    "from datasets import load_dataset\n",
    "dataset = load_dataset(\"derguene/anta_women_tts\")"
   ]
  },
  {
   "cell_type": "code",
   "execution_count": 5,
   "metadata": {},
   "outputs": [
    {
     "data": {
      "text/plain": [
       "list"
      ]
     },
     "execution_count": 5,
     "metadata": {},
     "output_type": "execute_result"
    }
   ],
   "source": [
    "type(dataset[\"train\"][\"audio\"])"
   ]
  },
  {
   "cell_type": "code",
   "execution_count": 27,
   "metadata": {
    "tags": []
   },
   "outputs": [],
   "source": [
    "def get_women_voice(example):\n",
    "    return example[\"gender\"] == 'female'\n",
    "\n",
    "dataset = dataset.filter(get_women_voice)"
   ]
  },
  {
   "cell_type": "code",
   "execution_count": null,
   "metadata": {
    "id": "9BHwqkbDawYJ",
    "tags": []
   },
   "outputs": [],
   "source": [
    "def normaliser(example):\n",
    "    example[\"transcription_normalised\"] = example[\"text\"].lower()\n",
    "    example[\"gender\"] = 1\n",
    "    return example\n",
    "\n",
    "\n",
    "dataset = dataset.map(normaliser)\n",
    "dataset = dataset.rename_column('text', 'transcription')\n",
    "\n",
    "dataset.push_to_hub('derguene/anta_women_tts')"
   ]
  },
  {
   "cell_type": "code",
   "execution_count": 7,
   "metadata": {
    "id": "DkbyXPC0ciZr",
    "tags": []
   },
   "outputs": [
    {
     "name": "stdout",
     "output_type": "stream",
     "text": [
      "xam na li mu bëgg te mu ngi koy def\n"
     ]
    },
    {
     "data": {
      "text/html": [
       "\n",
       "                <audio  controls=\"controls\" >\n",
       "                    <source src=\"data:audio/wav;base64,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\" type=\"audio/wav\" />\n",
       "                    Your browser does not support the audio element.\n",
       "                </audio>\n",
       "              "
      ],
      "text/plain": [
       "<IPython.lib.display.Audio object>"
      ]
     },
     "execution_count": 7,
     "metadata": {},
     "output_type": "execute_result"
    }
   ],
   "source": [
    "from IPython.display import Audio\n",
    "print(dataset[\"train\"][-1][\"text\"])\n",
    "Audio(dataset[\"train\"][-1][\"audio\"][\"array\"], rate=dataset[\"train\"][1][\"audio\"][\"sampling_rate\"])"
   ]
  },
  {
   "cell_type": "code",
   "execution_count": 19,
   "metadata": {
    "id": "hRZ1zg7McoFn",
    "tags": []
   },
   "outputs": [],
   "source": [
    "del dataset"
   ]
  },
  {
   "cell_type": "markdown",
   "metadata": {
    "id": "-QOfMCh3Z4Rb",
    "tags": []
   },
   "source": [
    "\n",
    "### Annotating the dataset\n",
    "\n",
    "We'll use [`main.py`](https://github.com/huggingface/dataspeech/blob/main/main.py) to get the following continuous variables:\n",
    "- Speaking rate `(nb_phonemes / utterance_length)`\n",
    "- Scale-Invariant Signal-to-Distortion Ratio (SI-SDR)\n",
    "- Reverberation\n",
    "- Speech monotony\n"
   ]
  },
  {
   "cell_type": "code",
   "execution_count": 8,
   "metadata": {
    "tags": []
   },
   "outputs": [
    {
     "name": "stdout",
     "output_type": "stream",
     "text": [
      "LICENSE    dataspeech  main.py\t\t scripts\n",
      "README.md  examples    requirements.txt  tmp_anta\n"
     ]
    }
   ],
   "source": [
    "!ls"
   ]
  },
  {
   "cell_type": "code",
   "execution_count": null,
   "metadata": {
    "id": "eAbjfpiXZ21y",
    "tags": []
   },
   "outputs": [
    {
     "name": "stdout",
     "output_type": "stream",
     "text": [
      "/opt/conda/lib/python3.10/site-packages/pyannote/audio/pipelines/speaker_verification.py:43: UserWarning: Module 'speechbrain.pretrained' was deprecated, redirecting to 'speechbrain.inference'. Please update your script. This is a change from SpeechBrain 1.0. See: https://github.com/speechbrain/speechbrain/releases/tag/v1.0.0\n",
      "  from speechbrain.pretrained import (\n",
      "Compute SI-SDR, PESQ, STOI\n",
      "Map:  97%|████████████████████████▎| 19372/19918 [05:56<00:09, 56.31 examples/s]"
     ]
    }
   ],
   "source": [
    "!python3 main.py \"derguene/anta_women_tts\" \\\n",
    "  --configuration \"default\" \\\n",
    "  --text_column_name \"text\" \\\n",
    "  --audio_column_name \"audio\" \\\n",
    "  --cpu_num_workers 2 \\\n",
    "  --rename_column \\\n",
    "  --repo_id \"parler_tts\" \\\n",
    "  --apply_squim_quality_estimation"
   ]
  },
  {
   "cell_type": "markdown",
   "metadata": {
    "id": "4LdRIc6gbI0b"
   },
   "source": [
    "The whole process took under 10mn!\n",
    "\n",
    "The resulting dataset will be pushed to the HuggingFace hub under your HuggingFace handle.\n",
    "\n",
    "Let's see what the new dataset looks like:"
   ]
  },
  {
   "cell_type": "code",
   "execution_count": null,
   "metadata": {
    "id": "5uMqJszvetZp",
    "tags": []
   },
   "outputs": [],
   "source": [
    "from datasets import load_dataset\n",
    "\n",
    "dataset = load_dataset(\"derguene$/parler_tts\")\n",
    "print(\"SI-SDR 1st sample\", dataset[\"train\"][0][\"si-sdr\"])\n",
    "print(\"C50 2nd sample\", dataset[\"train\"][0][\"c50\"])\n",
    "del dataset"
   ]
  },
  {
   "cell_type": "markdown",
   "metadata": {
    "id": "ZS_FOMKLfMSW"
   },
   "source": [
    "As you can see, the current annotations are continuous variables. To use it with Parler-TTS, we need to convert it to textual description, something that the two next steps will take care of."
   ]
  },
  {
   "cell_type": "markdown",
   "metadata": {
    "id": "W27HMdXWciqg",
    "tags": []
   },
   "source": [
    "### 2. Map annotations to text bins\n",
    "\n",
    "Since the ultimate goal here is to fine-tune the [Parler-TTS v1 Mini checkpoint](https://huggingface.co/parler-tts/parler-tts-mini-v1) on the dataset, we want to stay consistent with the text bins of the datasets on which the latter model was trained.\n",
    "\n",
    "This is easy to do thanks to the following:"
   ]
  },
  {
   "cell_type": "code",
   "execution_count": 23,
   "metadata": {
    "id": "XBETEzsahXk0",
    "tags": []
   },
   "outputs": [
    {
     "name": "stdout",
     "output_type": "stream",
     "text": [
      "Already computed bin edges have been passed for speaking_rate. Will use: [0.0, 3.8258038258038254, 7.651607651607651, 11.477411477411476, 15.303215303215302, 19.129019129019127, 22.95482295482295, 26.78062678062678].\n",
      "Map (num_proc=2): 100%|█████████| 29949/29949 [00:02<00:00, 12232.41 examples/s]\n",
      "Already computed bin edges have been passed for noise. Will use: [17.12751579284668, 25.4012325831822, 33.67494937351772, 41.94866616385323, 50.22238295418875, 58.49609974452427, 66.76981653485979, 75.04353332519531].\n",
      "Map (num_proc=2): 100%|█████████| 29949/29949 [00:02<00:00, 12474.70 examples/s]\n",
      "Already computed bin edges have been passed for reverberation. Will use: [10, 35, 45, 55, 59, 60].\n",
      "Map (num_proc=2): 100%|█████████| 29949/29949 [00:02<00:00, 12210.38 examples/s]\n",
      "Already computed bin edges have been passed for speech_monotony. Will use: [0.0, 20.37920924595424, 40.75841849190848, 70, 90, 142.6544647216797].\n",
      "Map (num_proc=2): 100%|█████████| 29949/29949 [00:02<00:00, 11981.97 examples/s]\n",
      "Already computed bin edges have been passed for sdr_noise. Will use: [-17.804332733154297, -0.40644073486328125, 10, 20, 25, 28, 34.38934326171875].\n",
      "Map (num_proc=2): 100%|█████████| 29949/29949 [00:02<00:00, 11625.86 examples/s]\n",
      "Already computed bin edges have been passed for pesq_speech_quality. Will use: [1, 1.7, 2.4, 3.1, 3.6, 4, 4.499948978424072].\n",
      "Map (num_proc=2): 100%|█████████| 29949/29949 [00:02<00:00, 11433.25 examples/s]\n",
      "Uploading the dataset shards:   0%|                       | 0/1 [00:00<?, ?it/s]\n",
      "Creating parquet from Arrow format:   0%|                | 0/30 [00:00<?, ?ba/s]\u001b[A\n",
      "Creating parquet from Arrow format:  37%|██▏   | 11/30 [00:00<00:00, 105.69ba/s]\u001b[A\n",
      "Creating parquet from Arrow format: 100%|██████| 30/30 [00:00<00:00, 108.58ba/s]\u001b[A\n",
      "Uploading the dataset shards: 100%|███████████████| 1/1 [00:01<00:00,  1.17s/it]\n"
     ]
    }
   ],
   "source": [
    "!python3 ./scripts/metadata_to_text.py \\\n",
    "    \"Alwaly/parler_tts\" \\\n",
    "    --repo_id \"parler_tts-text-tags\" \\\n",
    "    --configuration \"default\" \\\n",
    "    --cpu_num_workers 2 \\\n",
    "    --path_to_bin_edges \"./examples/tags_to_annotations/v02_bin_edges.json\" \\\n",
    "    --path_to_text_bins \"./examples/tags_to_annotations/v02_text_bins.json\" \\\n",
    "    --avoid_pitch_computation \\\n",
    "    --apply_squim_quality_estimation"
   ]
  },
  {
   "cell_type": "markdown",
   "metadata": {
    "id": "iN3FIQJghX5_"
   },
   "source": [
    "Thanks to [`v02_bin_edges.json`](https://github.com/huggingface/dataspeech/blob/main/examples/tags_to_annotations/v02_bin_edges.json), we don't need to recompute bins from scratch and the above script takes a few seconds.\n",
    "\n",
    "The resulting dataset will be pushed to the HuggingFace hub under your HuggingFace handle. Mine was push to your_username/parler_tts-text-tags.\n",
    "\n",
    "You can notice that text bins such as `slightly slowly`, `very monotone` have been added to the samples."
   ]
  },
  {
   "cell_type": "code",
   "execution_count": 12,
   "metadata": {
    "id": "rjfNPntrgY8B",
    "tags": []
   },
   "outputs": [
    {
     "data": {
      "application/vnd.jupyter.widget-view+json": {
       "model_id": "13cc27df44f5482daa3b516db593c350",
       "version_major": 2,
       "version_minor": 0
      },
      "text/plain": [
       "README.md:   0%|          | 0.00/882 [00:00<?, ?B/s]"
      ]
     },
     "metadata": {},
     "output_type": "display_data"
    },
    {
     "data": {
      "application/vnd.jupyter.widget-view+json": {
       "model_id": "9713219be48a4e06aa4d93e85b2cc7c5",
       "version_major": 2,
       "version_minor": 0
      },
      "text/plain": [
       "train-00000-of-00001.parquet:   0%|          | 0.00/4.03M [00:00<?, ?B/s]"
      ]
     },
     "metadata": {},
     "output_type": "display_data"
    },
    {
     "data": {
      "application/vnd.jupyter.widget-view+json": {
       "model_id": "993f0473db75484bacbc4a311bce0373",
       "version_major": 2,
       "version_minor": 0
      },
      "text/plain": [
       "Generating train split:   0%|          | 0/29949 [00:00<?, ? examples/s]"
      ]
     },
     "metadata": {},
     "output_type": "display_data"
    },
    {
     "name": "stdout",
     "output_type": "stream",
     "text": [
      "Noise 1st sample: noisy\n",
      "Speaking rate 2nd sample: slightly slowly\n"
     ]
    }
   ],
   "source": [
    "from datasets import load_dataset\n",
    "dataset = load_dataset(\"derguene/parler_tts-text-tags\")\n",
    "print(\"Noise 1st sample:\", dataset[\"train\"][0][\"sdr_noise\"])\n",
    "print(\"Speaking rate 2nd sample:\", dataset[\"train\"][0][\"speaking_rate\"])\n",
    "del dataset"
   ]
  },
  {
   "cell_type": "markdown",
   "metadata": {
    "id": "LKwAePwUcl8u",
    "tags": []
   },
   "source": [
    "\n",
    "### 3. Create natural language descriptions from those text bins\n",
    "\n",
    "Now that we have text bins associated to the Anta dataset, the next step is to create natural language descriptions out of the few created features.\n",
    "\n",
    "Here, we decided to create prompts that use the name `Anta`, prompts that'll look like the following:\n",
    "`In a very expressive voice, Anta pronounces her words incredibly slowly. There's some background noise in this room with a bit of echo'`\n",
    "\n",
    "This step generally demands more resources and times and should use one or many GPUs.\n",
    "\n",
    "The following command shows how to do it using the [2B version of the Gemma 2 model from Google](https://huggingface.co/google/gemma-2-2b-it), which should run in about 50 minutes in this Colab free T4. Note that we used this model because this notebook aims to show the potential of Parler-TTS fine-tuning, and thus it aims for time-efficiency. Otherwise, we would have gone for a bigger mode.\n",
    "\n",
    "As usual, we precise the dataset name and configuration we want to annotate. `model_name_or_path` should point to a `transformers` model for prompt annotation. You can find a list of such models [here](https://huggingface.co/models?pipeline_tag=text-generation&library=transformers&sort=trending).\n",
    "\n",
    "**Note** how we've been able to specify that the dataset is mono-speaker and that we should name the voice Anta thanks to the flags:\n",
    "\n",
    "\n",
    "`--speaker_name \"Anta\" --is_single_speaker`.\n"
   ]
  },
  {
   "cell_type": "code",
   "execution_count": null,
   "metadata": {
    "tags": []
   },
   "outputs": [
    {
     "name": "stdout",
     "output_type": "stream",
     "text": [
      "11/11/2024 10:18:45 - INFO - __main__ - *** Load annotated dataset ***\n",
      "11/11/2024 10:18:46 - INFO - __main__ - *** Load pretrained model ***\n",
      "Loading checkpoint shards: 100%|██████████████████| 2/2 [00:18<00:00,  9.13s/it]\n",
      "Preparing prompts (num_proc=2): 100%|█| 29949/29949 [00:18<00:00, 1612.49 exampl\n",
      " ... :   0%|                                           | 0/5990 [00:00<?, ?it/s]You're using a GemmaTokenizerFast tokenizer. Please note that with a fast tokenizer, using the `__call__` method is faster than using a method to encode the text followed by a call to the `pad` method to get a padded encoding.\n",
      "You're using a GemmaTokenizerFast tokenizer. Please note that with a fast tokenizer, using the `__call__` method is faster than using a method to encode the text followed by a call to the `pad` method to get a padded encoding.\n",
      "[2024-11-11 10:19:28,300] [INFO] [real_accelerator.py:219:get_accelerator] Setting ds_accelerator to cuda (auto detect)\n",
      "11/11/2024 10:19:28 - INFO - root - gcc -pthread -B /opt/conda/compiler_compat -Wno-unused-result -Wsign-compare -DNDEBUG -fwrapv -O2 -Wall -fPIC -O2 -isystem /opt/conda/include -fPIC -O2 -isystem /opt/conda/include -fPIC -c /var/tmp/tmpvh3_cwrr/test.c -o /var/tmp/tmpvh3_cwrr/test.o\n",
      "11/11/2024 10:19:28 - INFO - root - gcc -pthread -B /opt/conda/compiler_compat /var/tmp/tmpvh3_cwrr/test.o -laio -o /var/tmp/tmpvh3_cwrr/a.out\n",
      "11/11/2024 10:19:29 - INFO - root - gcc -pthread -B /opt/conda/compiler_compat -Wno-unused-result -Wsign-compare -DNDEBUG -fwrapv -O2 -Wall -fPIC -O2 -isystem /opt/conda/include -fPIC -O2 -isystem /opt/conda/include -fPIC -c /var/tmp/tmp0wfqnfn5/test.c -o /var/tmp/tmp0wfqnfn5/test.o\n",
      "11/11/2024 10:19:29 - INFO - root - gcc -pthread -B /opt/conda/compiler_compat /var/tmp/tmp0wfqnfn5/test.o -L/usr/local/cuda -L/usr/local/cuda/lib64 -lcufile -o /var/tmp/tmp0wfqnfn5/a.out\n",
      " ... :  17%|████▋                       | 1000/5990 [1:03:37<5:26:41,  3.93s/it]11/11/2024 11:23:07 - INFO - __main__ - Deleting older checkpoint [tmp_anta/train/checkpoint-500.json] due to args.save_total_limit\n",
      " ... :  25%|███████                     | 1500/5990 [1:36:04<3:52:25,  3.11s/it]11/11/2024 11:55:34 - INFO - __main__ - Deleting older checkpoint [tmp_anta/train/checkpoint-1000.json] due to args.save_total_limit\n",
      " ... :  33%|█████████▎                  | 2000/5990 [2:08:12<4:06:48,  3.71s/it]11/11/2024 12:27:44 - INFO - __main__ - Deleting older checkpoint [tmp_anta/train/checkpoint-1500.json] due to args.save_total_limit\n",
      " ... :  42%|███████████▋                | 2500/5990 [2:40:16<6:17:51,  6.50s/it]11/11/2024 12:59:48 - INFO - __main__ - Deleting older checkpoint [tmp_anta/train/checkpoint-2000.json] due to args.save_total_limit\n",
      " ... :  75%|█████████████████████       | 4500/5990 [4:46:32<2:07:33,  5.14s/it]11/11/2024 15:06:07 - INFO - __main__ - Deleting older checkpoint [tmp_anta/train/checkpoint-4000.json] due to args.save_total_limit\n",
      " ... :  83%|███████████████████████▎    | 5000/5990 [5:18:28<1:23:48,  5.08s/it]11/11/2024 15:38:03 - INFO - __main__ - Deleting older checkpoint [tmp_anta/train/checkpoint-4500.json] due to args.save_total_limit\n",
      " ... :  92%|███████████████████████████▌  | 5500/5990 [5:51:05<26:39,  3.26s/it]11/11/2024 16:10:42 - INFO - __main__ - Deleting older checkpoint [tmp_anta/train/checkpoint-5000.json] due to args.save_total_limit\n",
      " ... : 100%|██████████████████████████████| 5990/5990 [6:22:09<00:00,  3.08s/it]11/11/2024 16:41:46 - INFO - __main__ - Deleting older checkpoint [tmp_anta/train/checkpoint-5500.json] due to args.save_total_limit\n",
      "\n",
      "Postprocessing dataset (num_proc=2):   0%|     | 0/29949 [00:00<?, ? examples/s]\u001b[A\n",
      "Postprocessing dataset (num_proc=2):   3%| | 1000/29949 [00:09<04:38, 104.11 exa\u001b[A\n",
      "Postprocessing dataset (num_proc=2):   7%| | 2000/29949 [00:10<02:11, 211.77 exa\u001b[A\n",
      "Postprocessing dataset (num_proc=2):  10%| | 3000/29949 [00:15<02:10, 207.22 exa\u001b[A\n",
      "Postprocessing dataset (num_proc=2):  13%|▏| 4000/29949 [00:17<01:30, 288.21 exa\u001b[A\n",
      "Postprocessing dataset (num_proc=2):  17%|▏| 5000/29949 [00:22<01:38, 252.56 exa\u001b[A\n",
      "Postprocessing dataset (num_proc=2):  20%|▏| 6000/29949 [00:23<01:14, 321.48 exa\u001b[A\n",
      "Postprocessing dataset (num_proc=2):  23%|▏| 7000/29949 [00:28<01:23, 273.35 exa\u001b[A\n",
      "Postprocessing dataset (num_proc=2):  27%|▎| 8000/29949 [00:29<01:05, 336.87 exa\u001b[A\n",
      "Postprocessing dataset (num_proc=2):  30%|▎| 9000/29949 [00:34<01:13, 284.70 exa\u001b[A\n",
      "Postprocessing dataset (num_proc=2):  33%|▎| 10000/29949 [00:36<00:58, 343.82 ex\u001b[A\n",
      "Postprocessing dataset (num_proc=2):  37%|▎| 11000/29949 [00:40<01:05, 290.61 ex\u001b[A\n",
      "Postprocessing dataset (num_proc=2):  40%|▍| 12000/29949 [00:42<00:51, 345.30 ex\u001b[A\n",
      "Postprocessing dataset (num_proc=2):  43%|▍| 13000/29949 [00:46<00:57, 293.16 ex\u001b[A\n",
      "Postprocessing dataset (num_proc=2):  47%|▍| 14000/29949 [00:48<00:46, 345.40 ex\u001b[A\n",
      "Postprocessing dataset (num_proc=2):  50%|▌| 15000/29949 [00:53<00:50, 295.40 ex\u001b[A\n",
      "Postprocessing dataset (num_proc=2):  53%|▌| 16000/29949 [00:55<00:40, 343.04 ex\u001b[A\n",
      "Postprocessing dataset (num_proc=2):  57%|▌| 17000/29949 [00:59<00:43, 297.60 ex\u001b[A\n",
      "Postprocessing dataset (num_proc=2):  60%|▌| 18000/29949 [01:01<00:34, 344.47 ex\u001b[A\n",
      "Postprocessing dataset (num_proc=2):  63%|▋| 19000/29949 [01:05<00:36, 299.21 ex\u001b[A\n",
      "Postprocessing dataset (num_proc=2):  67%|▋| 20000/29949 [01:07<00:29, 342.25 ex\u001b[A\n",
      "Postprocessing dataset (num_proc=2):  70%|▋| 21000/29949 [01:11<00:30, 296.41 ex\u001b[A\n",
      "Postprocessing dataset (num_proc=2):  73%|▋| 22000/29949 [01:14<00:23, 335.85 ex\u001b[A\n",
      "Postprocessing dataset (num_proc=2):  77%|▊| 23000/29949 [01:18<00:23, 299.36 ex\u001b[A\n",
      "Postprocessing dataset (num_proc=2):  80%|▊| 24000/29949 [01:20<00:17, 336.84 ex\u001b[A\n",
      "Postprocessing dataset (num_proc=2):  83%|▊| 25000/29949 [01:24<00:16, 302.03 ex\u001b[A\n",
      "Postprocessing dataset (num_proc=2):  87%|▊| 26000/29949 [01:26<00:11, 338.41 ex\u001b[A\n",
      "Postprocessing dataset (num_proc=2):  90%|▉| 27000/29949 [01:30<00:09, 303.97 ex\u001b[A\n",
      "Postprocessing dataset (num_proc=2):  93%|▉| 28000/29949 [01:32<00:05, 338.03 ex\u001b[A\n",
      "Postprocessing dataset (num_proc=2):  97%|▉| 28975/29949 [01:36<00:03, 308.24 ex\u001b[A\n",
      "Postprocessing dataset (num_proc=2): 100%|█| 29949/29949 [01:39<00:00, 302.31 ex\u001b[A\n",
      "\n",
      "Saving the dataset (0/1 shards):   0%|         | 0/29949 [00:00<?, ? examples/s]\u001b[A\n",
      "Saving the dataset (1/1 shards): 100%|█| 29949/29949 [00:00<00:00, 488619.24 exa\u001b[A\n",
      "\n",
      "Uploading the dataset shards:   0%|                       | 0/1 [00:00<?, ?it/s]\u001b[A\n",
      "\n",
      "Creating parquet from Arrow format:   0%|                | 0/30 [00:00<?, ?ba/s]\u001b[A\u001b[A\n",
      "\n",
      "Creating parquet from Arrow format: 100%|██████| 30/30 [00:00<00:00, 263.46ba/s]\u001b[A\u001b[A\n",
      "\n",
      "Uploading the dataset shards: 100%|███████████████| 1/1 [00:01<00:00,  1.15s/it]\u001b[A\n",
      " ... : 100%|██████████████████████████████| 5990/5990 [6:24:01<00:00,  3.85s/it]\n"
     ]
    }
   ],
   "source": [
    "!python3 ./scripts/run_prompt_creation.py \\\n",
    "    --speaker_name \"Anta\" \\\n",
    "    --is_single_speaker \\\n",
    "    --is_new_speaker_prompt \\\n",
    "    --dataset_name \"derguene/parler_tts-text-tags\" \\\n",
    "    --output_dir \"./tmp_anta\" \\\n",
    "    --dataset_config_name \"default\" \\\n",
    "    --model_name_or_path \"google/gemma-2-2b-it\" \\\n",
    "    --per_device_eval_batch_size 5 \\\n",
    "    --attn_implementation \"sdpa\" \\\n",
    "    --dataloader_num_workers 2 \\\n",
    "    --push_to_hub \\\n",
    "    --hub_dataset_id \"derguene/parler_tts-descriptions-tags\" \\\n",
    "    --preprocessing_num_workers 2"
   ]
  },
  {
   "cell_type": "markdown",
   "metadata": {
    "id": "lRWTZp-0jfx1"
   },
   "source": [
    "Let's take a look at some created prompts:"
   ]
  },
  {
   "cell_type": "code",
   "execution_count": 14,
   "metadata": {
    "id": "6d6FzjOSwspZ",
    "tags": []
   },
   "outputs": [
    {
     "data": {
      "application/vnd.jupyter.widget-view+json": {
       "model_id": "42c44c79645147debfca2c8449e106b1",
       "version_major": 2,
       "version_minor": 0
      },
      "text/plain": [
       "README.md:   0%|          | 0.00/929 [00:00<?, ?B/s]"
      ]
     },
     "metadata": {},
     "output_type": "display_data"
    },
    {
     "data": {
      "application/vnd.jupyter.widget-view+json": {
       "model_id": "8d3deb0d9e864486b2c768e3b11ee148",
       "version_major": 2,
       "version_minor": 0
      },
      "text/plain": [
       "train-00000-of-00001.parquet:   0%|          | 0.00/5.91M [00:00<?, ?B/s]"
      ]
     },
     "metadata": {},
     "output_type": "display_data"
    },
    {
     "data": {
      "application/vnd.jupyter.widget-view+json": {
       "model_id": "f5644c35214f457e9165b3ba338ceb50",
       "version_major": 2,
       "version_minor": 0
      },
      "text/plain": [
       "Generating train split:   0%|          | 0/29949 [00:00<?, ? examples/s]"
      ]
     },
     "metadata": {},
     "output_type": "display_data"
    },
    {
     "name": "stdout",
     "output_type": "stream",
     "text": [
      "1st sample: \n",
      "\n",
      "'Anta's speech has a slightly distant-sounding quality, with a noticeable amount of noise. Her voice is expressive and animated, though delivered at a slightly slow pace.'\n",
      "\n",
      "Let me know if you have any questions. \n",
      "\n",
      "\n",
      "\n",
      "2nd sample: \n",
      "\n",
      "'Anta's voice sounds slightly distant, with a noticeable amount of noise. The tone of her speech is slightly expressive, and she delivers it in a slow pace.' \n",
      "\n",
      "\n",
      "\n"
     ]
    }
   ],
   "source": [
    "from datasets import load_dataset\n",
    "dataset = load_dataset(\"derguene/parler_tts-descriptions-tags\")\n",
    "print(\"1st sample:\", dataset[\"train\"][0][\"text_description\"])\n",
    "print(\"2nd sample:\", dataset[\"train\"][1][\"text_description\"])\n",
    "del dataset"
   ]
  },
  {
   "cell_type": "markdown",
   "metadata": {
    "id": "XTzBny_hct2z",
    "tags": []
   },
   "source": [
    "## Fine-tuning Parler-TTS\n",
    "\n"
   ]
  },
  {
   "cell_type": "code",
   "execution_count": 5,
   "metadata": {
    "colab": {
     "base_uri": "https://localhost:8080/"
    },
    "id": "LXvK-qKUcsJV",
    "outputId": "965a6239-1c64-4b89-b163-14808357cbce",
    "tags": []
   },
   "outputs": [
    {
     "name": "stdout",
     "output_type": "stream",
     "text": [
      "/home/caytu/Wolof-TTS/src/parler-tts\n"
     ]
    }
   ],
   "source": [
    "%cd ../../src/parler-tts"
   ]
  },
  {
   "cell_type": "markdown",
   "metadata": {
    "id": "cMMKTjFQZJj3"
   },
   "source": [
    "We can know fully focus on fine-tuning Parler-TTS. Luckily, [the Parler-TTS library](https://github.com/huggingface/.parler-tts) has a training script available [here](https://github.com/huggingface/parler-tts/tree/main/training), that can be used with just a few arguments.\n",
    "\n",
    "\n",
    "> **Note:** you need to enter your choice concerning WandB. If you don't have an account, you can enter `3` to avoid logging on WandB. Otherwise; you can logging to follow how your model trained."
   ]
  },
  {
   "cell_type": "code",
   "execution_count": 6,
   "metadata": {
    "tags": []
   },
   "outputs": [],
   "source": [
    "import os\n",
    "\n",
    "os.environ[\"WANDB_NOTEBOOK_NAME\"] = \"../../notebooks/ParlerTTS_v1_finetuning_on_single_wolof_tts_dataset.ipynb\"\n",
    "os.environ[\"WANDB_PROJECT\"]       = \"Parler_TTS\"\n",
    "os.environ[\"WANDB_LOG_MODEL\"]     = \"end\""
   ]
  },
  {
   "cell_type": "code",
   "execution_count": 7,
   "metadata": {
    "tags": []
   },
   "outputs": [
    {
     "name": "stderr",
     "output_type": "stream",
     "text": [
      "\u001b[34m\u001b[1mwandb\u001b[0m: \u001b[33mWARNING\u001b[0m WANDB_NOTEBOOK_NAME should be a path to a notebook file, couldn't find ../../notebooks/ParlerTTS_v1_finetuning_on_single_wolof_tts_dataset.ipynb.\n",
      "\u001b[34m\u001b[1mwandb\u001b[0m: Currently logged in as: \u001b[33mmbayederguene\u001b[0m (\u001b[33mcadair\u001b[0m). Use \u001b[1m`wandb login --relogin`\u001b[0m to force relogin\n"
     ]
    },
    {
     "data": {
      "text/html": [
       "wandb version 0.18.6 is available!  To upgrade, please run:\n",
       " $ pip install wandb --upgrade"
      ],
      "text/plain": [
       "<IPython.core.display.HTML object>"
      ]
     },
     "metadata": {},
     "output_type": "display_data"
    },
    {
     "data": {
      "text/html": [
       "Tracking run with wandb version 0.16.6"
      ],
      "text/plain": [
       "<IPython.core.display.HTML object>"
      ]
     },
     "metadata": {},
     "output_type": "display_data"
    },
    {
     "data": {
      "text/html": [
       "Run data is saved locally in <code>/home/caytu/Wolof-TTS/src/parler-tts/wandb/run-20241111_180425-y22b95wz</code>"
      ],
      "text/plain": [
       "<IPython.core.display.HTML object>"
      ]
     },
     "metadata": {},
     "output_type": "display_data"
    },
    {
     "data": {
      "text/html": [
       "Syncing run <strong><a href='https://wandb.ai/cadair/parler_tts/runs/y22b95wz' target=\"_blank\">exalted-microwave-4</a></strong> to <a href='https://wandb.ai/cadair/parler_tts' target=\"_blank\">Weights & Biases</a> (<a href='https://wandb.me/run' target=\"_blank\">docs</a>)<br/>"
      ],
      "text/plain": [
       "<IPython.core.display.HTML object>"
      ]
     },
     "metadata": {},
     "output_type": "display_data"
    },
    {
     "data": {
      "text/html": [
       " View project at <a href='https://wandb.ai/cadair/parler_tts' target=\"_blank\">https://wandb.ai/cadair/parler_tts</a>"
      ],
      "text/plain": [
       "<IPython.core.display.HTML object>"
      ]
     },
     "metadata": {},
     "output_type": "display_data"
    },
    {
     "data": {
      "text/html": [
       " View run at <a href='https://wandb.ai/cadair/parler_tts/runs/y22b95wz' target=\"_blank\">https://wandb.ai/cadair/parler_tts/runs/y22b95wz</a>"
      ],
      "text/plain": [
       "<IPython.core.display.HTML object>"
      ]
     },
     "metadata": {},
     "output_type": "display_data"
    },
    {
     "data": {
      "text/html": [
       "<button onClick=\"this.nextSibling.style.display='block';this.style.display='none';\">Display W&B run</button><iframe src='https://wandb.ai/cadair/parler_tts/runs/y22b95wz?jupyter=true' style='border:none;width:100%;height:420px;display:none;'></iframe>"
      ],
      "text/plain": [
       "<wandb.sdk.wandb_run.Run at 0x7f6a099c7a00>"
      ]
     },
     "execution_count": 7,
     "metadata": {},
     "output_type": "execute_result"
    }
   ],
   "source": [
    "import wandb\n",
    "wandb.init(project=\"parler_tts\")"
   ]
  },
  {
   "cell_type": "code",
   "execution_count": null,
   "metadata": {
    "colab": {
     "base_uri": "https://localhost:8080/"
    },
    "id": "8tlYo4SlcrSg",
    "outputId": "c0abbeb9-89f2-4e14-dac6-732520fd619a",
    "tags": []
   },
   "outputs": [],
   "source": [
    "!accelerate launch ./training/run_parler_tts_training.py \\\n",
    "    --model_name_or_path \"parler-tts/parler-tts-mini-v1\" \\\n",
    "    --feature_extractor_name \"parler-tts/dac_44khZ_8kbps\" \\\n",
    "    --description_tokenizer_name \"parler-tts/parler-tts-mini-v1\" \\\n",
    "    --prompt_tokenizer_name \"parler-tts/parler-tts-mini-v1\" \\\n",
    "    --report_to \"wandb\" \\\n",
    "    --overwrite_output_dir true \\\n",
    "    --train_dataset_name \"derguene/anta_women_tts\" \\\n",
    "    --train_metadata_dataset_name \"derguene/parler_tts-descriptions-tags\" \\\n",
    "    --train_dataset_config_name \"default\" \\\n",
    "    --train_split_name \"train\" \\\n",
    "    --eval_dataset_name \"derguene/anta_women_tts\" \\\n",
    "    --eval_metadata_dataset_name \"derguene/parler_tts-descriptions-tags\" \\\n",
    "    --eval_dataset_config_name \"default\" \\\n",
    "    --eval_split_name \"train\" \\\n",
    "    --max_eval_samples 8 \\\n",
    "    --per_device_eval_batch_size 8 \\\n",
    "    --target_audio_column_name \"audio\" \\\n",
    "    --description_column_name \"text_description\" \\\n",
    "    --prompt_column_name \"text\" \\\n",
    "    --max_duration_in_seconds 20 \\\n",
    "    --min_duration_in_seconds 2.0 \\\n",
    "    --max_text_length 400 \\\n",
    "    --preprocessing_num_workers 2 \\\n",
    "    --do_train true \\\n",
    "    --num_train_epochs 200 \\\n",
    "    --gradient_accumulation_steps 18 \\\n",
    "    --gradient_checkpointing true \\\n",
    "    --per_device_train_batch_size 2 \\\n",
    "    --learning_rate 0.0001 \\\n",
    "    --adam_beta1 0.9 \\\n",
    "    --adam_beta2 0.99 \\\n",
    "    --weight_decay 0.01 \\\n",
    "    --lr_scheduler_type \"constant_with_warmup\" \\\n",
    "    --warmup_steps 50 \\\n",
    "    --logging_steps 2 \\\n",
    "    --freeze_text_encoder true \\\n",
    "    --audio_encoder_per_device_batch_size 5 \\\n",
    "    --dtype \"float16\" \\\n",
    "    --seed 456 \\\n",
    "    --output_dir \"./output_dir_training/\" \\\n",
    "    --temporary_save_to_disk \"./audio_code_tmp/\" \\\n",
    "    --save_to_disk \"./tmp_dataset_audio/\" \\\n",
    "    --dataloader_num_workers 2 \\\n",
    "    --do_eval \\\n",
    "    --predict_with_generate \\\n",
    "    --include_inputs_for_metrics \\\n",
    "    --group_by_length true"
   ]
  },
  {
   "cell_type": "markdown",
   "metadata": {
    "id": "ZzSt2UADpgxL"
   },
   "source": [
    "## Inference\n",
    "\n",
    "The full training on the free T4 from Google Colab took about an hour.\n",
    "Now, let's see how to do inference with the newly fine-tuned model!"
   ]
  },
  {
   "cell_type": "markdown",
   "metadata": {
    "id": "lN6BYk95s-H-"
   },
   "source": [
    "First install the Parler-TTS library:"
   ]
  },
  {
   "cell_type": "code",
   "execution_count": null,
   "metadata": {
    "colab": {
     "base_uri": "https://localhost:8080/",
     "height": 1000
    },
    "id": "iOsBGHwXtCc-",
    "outputId": "cf9327c2-5486-4d5a-9cf8-fcc4a560dbff"
   },
   "outputs": [],
   "source": [
    "!pip install --no-cache-dir --upgrade git+https://github.com/huggingface/parler-tts.git"
   ]
  },
  {
   "cell_type": "code",
   "execution_count": 1,
   "metadata": {
    "tags": []
   },
   "outputs": [
    {
     "name": "stdout",
     "output_type": "stream",
     "text": [
      "/home/caytu/Wolof-TTS/src/parler-tts\n"
     ]
    }
   ],
   "source": [
    "%cd ../../src/parler-tts"
   ]
  },
  {
   "cell_type": "markdown",
   "metadata": {
    "id": "IBrl-kE4tCrz"
   },
   "source": [
    "Then:"
   ]
  },
  {
   "cell_type": "code",
   "execution_count": 3,
   "metadata": {
    "colab": {
     "base_uri": "https://localhost:8080/",
     "height": 368,
     "referenced_widgets": [
      "cf74b7662a22492b8a9051b80997df18",
      "9f02f1bfe1bc47f98df7d6218cf8546c",
      "4de2d81d2d3345c590a39e745ad5cccd",
      "bff754cedf324f848a69f95f182cac7d",
      "10ba1649ddb7466b91f7377df3d29637",
      "fb3617ceb45c40a28fbd002be9d7b435",
      "7ac00f0d87d946aa96e300f38904729b",
      "dcd6ad719da34c35bf25268d9d8fcf4e",
      "c4a55301926b4ca1ad5f8fad8e2abed8",
      "d38570f54b6e4122b8699612bfe079c7",
      "f11f6bf90fc84370816a0d7faca206b3",
      "14511e8c03a14925b6bf56b040d8dfef",
      "0c39c698094c456daff49633bb90d809",
      "8198616acc224c4fb2e3f0996404caf1",
      "761ad3fa2fcc4287b124f5c5347d4deb",
      "fc3e258bb4024ed49ce4d5b9361df994",
      "44aceed958204007b4dce9c31d23ee64",
      "3f465ad63b7c471a903461c56644c97d",
      "cf6980617c6f4806a7c5139751de9703",
      "46d3d5d841744101859cac9ee6c8d323",
      "e7a5f61186184c5f953792705e0a3378",
      "c0935ce5cb8046c8aa1f41af7b551f4d",
      "a57e692eccb949d5a0bd811bcbb7ed4d",
      "e7c03bc1246a40ae9697957587f9bf73",
      "e0f9e9b3ace34c8b8206a3ebab1a9e24",
      "397faf01f70c4e258ce30838e1bd221b",
      "68cd8b5fc09f4d2ca2134df6ebdb3727",
      "9c6e68da3a9f484093a3af7188c7e6d3",
      "418ee4e8dc424344a9820d154b64f2b3",
      "b1c3cf3301db43b7a663ad271f3d5fe7",
      "73f20d75acb94f758b06f3cfb0d4ebec",
      "af29958641174c889c936b3983584678",
      "d78d3fcf2cd04725851ab1ba40af2e5b",
      "f8efabee5347446fb3142723901455cc",
      "9c8a3091b33f4c6fb7837a14de6533e3",
      "e167b1295b614439a34a935d68caf121",
      "6618a12cef33478aacb27e8aee806239",
      "42807efedec242c4be94ed83070fcc3d",
      "9a6abde9e0b54a41830b01726f948eee",
      "6307d6e3d2054194b527500295e2ff5b",
      "b8de335a25164231856433c63990c47a",
      "4985683c712540e9b27f4361f3fce58d",
      "030d760aabec423d9454153caee5daef",
      "15abeec7b653450c810ed4e50ecf98c9"
     ]
    },
    "id": "5cj-as-2Ob5O",
    "outputId": "a7865c6e-ff75-48c7-d4cd-e0399fe6b358"
   },
   "outputs": [
    {
     "name": "stderr",
     "output_type": "stream",
     "text": [
      "/home/caytu/.local/lib/python3.10/site-packages/torch/nn/utils/weight_norm.py:143: FutureWarning: `torch.nn.utils.weight_norm` is deprecated in favor of `torch.nn.utils.parametrizations.weight_norm`.\n",
      "  WeightNorm.apply(module, name, dim)\n",
      "Config of the text_encoder: <class 'transformers.models.t5.modeling_t5.T5EncoderModel'> is overwritten by shared text_encoder config: T5Config {\n",
      "  \"_name_or_path\": \"google/flan-t5-large\",\n",
      "  \"architectures\": [\n",
      "    \"T5ForConditionalGeneration\"\n",
      "  ],\n",
      "  \"classifier_dropout\": 0.0,\n",
      "  \"d_ff\": 2816,\n",
      "  \"d_kv\": 64,\n",
      "  \"d_model\": 1024,\n",
      "  \"decoder_start_token_id\": 0,\n",
      "  \"dense_act_fn\": \"gelu_new\",\n",
      "  \"dropout_rate\": 0.1,\n",
      "  \"eos_token_id\": 1,\n",
      "  \"feed_forward_proj\": \"gated-gelu\",\n",
      "  \"initializer_factor\": 1.0,\n",
      "  \"is_encoder_decoder\": true,\n",
      "  \"is_gated_act\": true,\n",
      "  \"layer_norm_epsilon\": 1e-06,\n",
      "  \"model_type\": \"t5\",\n",
      "  \"n_positions\": 512,\n",
      "  \"num_decoder_layers\": 24,\n",
      "  \"num_heads\": 16,\n",
      "  \"num_layers\": 24,\n",
      "  \"output_past\": true,\n",
      "  \"pad_token_id\": 0,\n",
      "  \"relative_attention_max_distance\": 128,\n",
      "  \"relative_attention_num_buckets\": 32,\n",
      "  \"tie_word_embeddings\": false,\n",
      "  \"transformers_version\": \"4.46.1\",\n",
      "  \"use_cache\": true,\n",
      "  \"vocab_size\": 32128\n",
      "}\n",
      "\n",
      "Config of the audio_encoder: <class 'parler_tts.dac_wrapper.modeling_dac.DACModel'> is overwritten by shared audio_encoder config: DACConfig {\n",
      "  \"_name_or_path\": \"parler-tts/dac_44khZ_8kbps\",\n",
      "  \"architectures\": [\n",
      "    \"DACModel\"\n",
      "  ],\n",
      "  \"codebook_size\": 1024,\n",
      "  \"frame_rate\": 86,\n",
      "  \"latent_dim\": 1024,\n",
      "  \"model_bitrate\": 8,\n",
      "  \"model_type\": \"dac_on_the_hub\",\n",
      "  \"num_codebooks\": 9,\n",
      "  \"sampling_rate\": 44100,\n",
      "  \"torch_dtype\": \"float32\",\n",
      "  \"transformers_version\": \"4.46.1\"\n",
      "}\n",
      "\n",
      "Config of the decoder: <class 'parler_tts.modeling_parler_tts.ParlerTTSForCausalLM'> is overwritten by shared decoder config: ParlerTTSDecoderConfig {\n",
      "  \"_name_or_path\": \"/fsx/yoach/tmp/artefacts/parler-tts-mini/decoder\",\n",
      "  \"activation_dropout\": 0.0,\n",
      "  \"activation_function\": \"gelu\",\n",
      "  \"add_cross_attention\": true,\n",
      "  \"architectures\": [\n",
      "    \"ParlerTTSForCausalLM\"\n",
      "  ],\n",
      "  \"attention_dropout\": 0.0,\n",
      "  \"bos_token_id\": 1025,\n",
      "  \"codebook_weights\": null,\n",
      "  \"cross_attention_implementation_strategy\": null,\n",
      "  \"dropout\": 0.1,\n",
      "  \"eos_token_id\": 1024,\n",
      "  \"ffn_dim\": 4096,\n",
      "  \"hidden_size\": 1024,\n",
      "  \"initializer_factor\": 0.02,\n",
      "  \"is_decoder\": true,\n",
      "  \"layerdrop\": 0.0,\n",
      "  \"max_position_embeddings\": 4096,\n",
      "  \"model_type\": \"parler_tts_decoder\",\n",
      "  \"num_attention_heads\": 16,\n",
      "  \"num_codebooks\": 9,\n",
      "  \"num_cross_attention_key_value_heads\": 16,\n",
      "  \"num_hidden_layers\": 24,\n",
      "  \"num_key_value_heads\": 16,\n",
      "  \"pad_token_id\": 1024,\n",
      "  \"rope_embeddings\": false,\n",
      "  \"rope_theta\": 10000.0,\n",
      "  \"scale_embedding\": false,\n",
      "  \"tie_word_embeddings\": false,\n",
      "  \"torch_dtype\": \"float32\",\n",
      "  \"transformers_version\": \"4.46.1\",\n",
      "  \"use_cache\": true,\n",
      "  \"use_fused_lm_heads\": false,\n",
      "  \"vocab_size\": 1088\n",
      "}\n",
      "\n"
     ]
    }
   ],
   "source": [
    "from parler_tts import ParlerTTSForConditionalGeneration\n",
    "from transformers import AutoTokenizer\n",
    "import torch\n",
    "\n",
    "device = \"cuda:0\" if torch.cuda.is_available() else \"cpu\"\n",
    "\n",
    "model = ParlerTTSForConditionalGeneration.from_pretrained(\"output_dir_training/checkpoint-500-epoch-0\").to(device)\n",
    "tokenizer = AutoTokenizer.from_pretrained(\"parler-tts/parler-tts-mini-v1\")"
   ]
  },
  {
   "cell_type": "code",
   "execution_count": 4,
   "metadata": {
    "tags": []
   },
   "outputs": [
    {
     "name": "stderr",
     "output_type": "stream",
     "text": [
      "The attention mask is not set and cannot be inferred from input because pad token is same as eos token. As a consequence, you may observe unexpected behavior. Please pass your input's `attention_mask` to obtain reliable results.\n"
     ]
    }
   ],
   "source": [
    "prompt      = \"Màngi tudd Anta, di wax ak yéen ci wolof ngir nu mën dégganté bu baax\"\n",
    "description = \"'Jenny's delivers her words quite expressively, in a very confined sounding environment with clear audio quality. She speaks fast.'\"\n",
    "\n",
    "input_ids        = tokenizer(description, return_tensors=\"pt\").input_ids.to(device)\n",
    "prompt_input_ids = tokenizer(prompt, return_tensors=\"pt\").input_ids.to(device)\n",
    "\n",
    "generation = model.generate(input_ids=input_ids, prompt_input_ids=prompt_input_ids, do_sample=False)\n",
    "audio_arr  = generation.cpu().numpy().squeeze()"
   ]
  },
  {
   "cell_type": "code",
   "execution_count": 5,
   "metadata": {},
   "outputs": [
    {
     "data": {
      "text/plain": [
       "5632"
      ]
     },
     "execution_count": 5,
     "metadata": {},
     "output_type": "execute_result"
    }
   ],
   "source": [
    "len(audio_arr)"
   ]
  },
  {
   "cell_type": "code",
   "execution_count": 5,
   "metadata": {
    "tags": []
   },
   "outputs": [
    {
     "data": {
      "text/html": [
       "\n",
       "                <audio  controls=\"controls\" >\n",
       "                    <source src=\"data:audio/x-wav;base64,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\" type=\"audio/x-wav\" />\n",
       "                    Your browser does not support the audio element.\n",
       "                </audio>\n",
       "              "
      ],
      "text/plain": [
       "<IPython.lib.display.Audio object>"
      ]
     },
     "execution_count": 5,
     "metadata": {},
     "output_type": "execute_result"
    }
   ],
   "source": [
    "from IPython.display import Audio\n",
    "Audio('parler_tts_out.wav', rate=44100)"
   ]
  },
  {
   "cell_type": "code",
   "execution_count": 8,
   "metadata": {
    "tags": []
   },
   "outputs": [],
   "source": [
    "# exporting audio to a file\n",
    "import soundfile as sf\n",
    "audio_path = \"parler_tts_out.wav\"\n",
    "sf.write(audio_path, audio_arr, model.config.sampling_rate)"
   ]
  },
  {
   "cell_type": "markdown",
   "metadata": {
    "id": "B3Bm3E_lp9JW"
   },
   "source": [
    "This is great! As you can see, the model now managed to get a **consistent** voice throughout generation that looks like **Anta**!\n",
    "\n",
    "Since we're quite happy about it, let's push it to the hub to be able to re-use it!"
   ]
  },
  {
   "cell_type": "code",
   "execution_count": 6,
   "metadata": {
    "colab": {
     "base_uri": "https://localhost:8080/",
     "height": 168,
     "referenced_widgets": [
      "97d902f113fc45acbc0ba28f588f1f36",
      "4d67458f0142410eada6fe37b48a763b",
      "c942d185b0d5462faf52ab9cfc4f3c49",
      "c66347b93eee4bdd8ca17e55f079e444",
      "b6a54ad0c6a347b789f378f6b1815a05",
      "7083ab31ffdd405dbd452ea8d856f4f9",
      "3614a9efe00f44219a222ae0e71afcc6",
      "dc32531a0e82477fa1943b9e1e7a552e",
      "02dd3e4e4c8a48259287bb770d7e70d0",
      "569c96a2ad3d4a25957f04f70c840f00",
      "b75a2d49e22c4cb081b712600b56b9b5",
      "31050f3460f84c3b84efd59c29b016c8",
      "5b9eaaff2db240c9a844a3e7d758f6ff",
      "bc51cdcc5e0849878f3bfa94dbed4de6",
      "d38b77c506ca43fe9b88ecfa1f35204a",
      "37359d4d3fc14829a6e9da266faa8a96",
      "30de7237040341f8b54c2fd44228872f",
      "a43698d17ab446168d10d47abd9e2272",
      "1c40d3c7131f45b4854b3b921a7d34a6",
      "8569b46505c341d486f9654c952cf288",
      "50b7ebc8bf414fa68b84943165eb0cb4",
      "c007a8ff5c0d460d85f58abf87ee5eff",
      "ebc4a05f2e614847b9f4baa4588341ac",
      "3b9593d562f046a4a2b90b222684c8a7",
      "b69a33014b934812aedf8d04f63cdcb7",
      "280fdc542a39472f923747ed5d1db95f",
      "054e1cf1207d41cc8cb1f075f3d6fc7b",
      "8b3a166364204168869b8e0d2ecd2c84",
      "6d6e5169fc1d4db38fe06cd19eaa8cdc",
      "ebbeb3e486ca4327bdb5481bd658ddac",
      "a1abdc1153184cb5a1f89ff29f8500eb",
      "85d386d377c5422e8b8a93691a591893",
      "6a703bca3e8c4d2bb32ac926b4e72091"
     ]
    },
    "id": "4Gr1PcKJqKGz",
    "outputId": "ee50b5e3-22f5-49d1-ffa7-221725f774d3"
   },
   "outputs": [
    {
     "data": {
      "application/vnd.jupyter.widget-view+json": {
       "model_id": "b0528c0ce0094518825c9c2844277287",
       "version_major": 2,
       "version_minor": 0
      },
      "text/plain": [
       "model.safetensors:   0%|          | 0.00/3.51G [00:00<?, ?B/s]"
      ]
     },
     "metadata": {},
     "output_type": "display_data"
    },
    {
     "name": "stderr",
     "output_type": "stream",
     "text": [
      "No files have been modified since last commit. Skipping to prevent empty commit.\n"
     ]
    },
    {
     "data": {
      "text/plain": [
       "CommitInfo(commit_url='https://huggingface.co/galsenai/parler-tts-mini-v1-wolof/commit/5d2f938ee9bcf83cf02ebaee6c699689613983e1', commit_message='Upload tokenizer', commit_description='', oid='5d2f938ee9bcf83cf02ebaee6c699689613983e1', pr_url=None, repo_url=RepoUrl('https://huggingface.co/galsenai/parler-tts-mini-v1-wolof', endpoint='https://huggingface.co', repo_type='model', repo_id='galsenai/parler-tts-mini-v1-wolof'), pr_revision=None, pr_num=None)"
      ]
     },
     "execution_count": 6,
     "metadata": {},
     "output_type": "execute_result"
    }
   ],
   "source": [
    "model.push_to_hub(\"galsenai/parler-tts-mini-v1-wolof\")\n",
    "tokenizer.push_to_hub(\"galsenai/parler-tts-mini-v1-wolof\")"
   ]
  },
  {
   "cell_type": "markdown",
   "metadata": {
    "id": "mqqn_zdpsZnc"
   },
   "source": [
    "You'll now be able to load the model and the tokenizer using the direct repository id of your model, i.e `<your_HF_handle>/parler-tts-mini-wolof-colab`.\n",
    "\n",
    "```python\n",
    "model = ParlerTTSForConditionalGeneration.from_pretrained(\"<your_HF_handle>/parler-tts-mini-wolof-colab\").to(device)\n",
    "tokenizer = AutoTokenizer.from_pretrained(\"<your_HF_handle>/parler-tts-mini-wolof-colab\")\n",
    "```\n",
    "\n"
   ]
  },
  {
   "cell_type": "markdown",
   "metadata": {
    "id": "2xyv1bAiqTKn"
   },
   "source": [
    "## Conclusion\n",
    "\n",
    "To conclude, we've shown here how to fine-tune Parler-TTS Mini v1 on this newly created dataset!\n",
    "\n",
    "**If you want to fine-tune the model on your own dataset, you can follow and/or adapt the current notebook to make it work!"
   ]
  }
 ],
 "metadata": {
  "accelerator": "GPU",
  "colab": {
   "gpuType": "T4",
   "provenance": []
  },
  "kernelspec": {
   "display_name": "Python 3 (ipykernel) (Local)",
   "language": "python",
   "name": "python3"
  },
  "language_info": {
   "codemirror_mode": {
    "name": "ipython",
    "version": 3
   },
   "file_extension": ".py",
   "mimetype": "text/x-python",
   "name": "python",
   "nbconvert_exporter": "python",
   "pygments_lexer": "ipython3",
   "version": "3.10.15"
  },
  "widgets": {
   "application/vnd.jupyter.widget-state+json": {
    "02dd3e4e4c8a48259287bb770d7e70d0": {
     "model_module": "@jupyter-widgets/controls",
     "model_module_version": "1.5.0",
     "model_name": "ProgressStyleModel",
     "state": {
      "_model_module": "@jupyter-widgets/controls",
      "_model_module_version": "1.5.0",
      "_model_name": "ProgressStyleModel",
      "_view_count": null,
      "_view_module": "@jupyter-widgets/base",
      "_view_module_version": "1.2.0",
      "_view_name": "StyleView",
      "bar_color": null,
      "description_width": ""
     }
    },
    "030d760aabec423d9454153caee5daef": {
     "model_module": "@jupyter-widgets/base",
     "model_module_version": "1.2.0",
     "model_name": "LayoutModel",
     "state": {
      "_model_module": "@jupyter-widgets/base",
      "_model_module_version": "1.2.0",
      "_model_name": "LayoutModel",
      "_view_count": null,
      "_view_module": "@jupyter-widgets/base",
      "_view_module_version": "1.2.0",
      "_view_name": "LayoutView",
      "align_content": null,
      "align_items": null,
      "align_self": null,
      "border": null,
      "bottom": null,
      "display": null,
      "flex": null,
      "flex_flow": null,
      "grid_area": null,
      "grid_auto_columns": null,
      "grid_auto_flow": null,
      "grid_auto_rows": null,
      "grid_column": null,
      "grid_gap": null,
      "grid_row": null,
      "grid_template_areas": null,
      "grid_template_columns": null,
      "grid_template_rows": null,
      "height": null,
      "justify_content": null,
      "justify_items": null,
      "left": null,
      "margin": null,
      "max_height": null,
      "max_width": null,
      "min_height": null,
      "min_width": null,
      "object_fit": null,
      "object_position": null,
      "order": null,
      "overflow": null,
      "overflow_x": null,
      "overflow_y": null,
      "padding": null,
      "right": null,
      "top": null,
      "visibility": null,
      "width": null
     }
    },
    "054e1cf1207d41cc8cb1f075f3d6fc7b": {
     "model_module": "@jupyter-widgets/base",
     "model_module_version": "1.2.0",
     "model_name": "LayoutModel",
     "state": {
      "_model_module": "@jupyter-widgets/base",
      "_model_module_version": "1.2.0",
      "_model_name": "LayoutModel",
      "_view_count": null,
      "_view_module": "@jupyter-widgets/base",
      "_view_module_version": "1.2.0",
      "_view_name": "LayoutView",
      "align_content": null,
      "align_items": null,
      "align_self": null,
      "border": null,
      "bottom": null,
      "display": null,
      "flex": null,
      "flex_flow": null,
      "grid_area": null,
      "grid_auto_columns": null,
      "grid_auto_flow": null,
      "grid_auto_rows": null,
      "grid_column": null,
      "grid_gap": null,
      "grid_row": null,
      "grid_template_areas": null,
      "grid_template_columns": null,
      "grid_template_rows": null,
      "height": null,
      "justify_content": null,
      "justify_items": null,
      "left": null,
      "margin": null,
      "max_height": null,
      "max_width": null,
      "min_height": null,
      "min_width": null,
      "object_fit": null,
      "object_position": null,
      "order": null,
      "overflow": null,
      "overflow_x": null,
      "overflow_y": null,
      "padding": null,
      "right": null,
      "top": null,
      "visibility": null,
      "width": null
     }
    },
    "0c39c698094c456daff49633bb90d809": {
     "model_module": "@jupyter-widgets/controls",
     "model_module_version": "1.5.0",
     "model_name": "HTMLModel",
     "state": {
      "_dom_classes": [],
      "_model_module": "@jupyter-widgets/controls",
      "_model_module_version": "1.5.0",
      "_model_name": "HTMLModel",
      "_view_count": null,
      "_view_module": "@jupyter-widgets/controls",
      "_view_module_version": "1.5.0",
      "_view_name": "HTMLView",
      "description": "",
      "description_tooltip": null,
      "layout": "IPY_MODEL_44aceed958204007b4dce9c31d23ee64",
      "placeholder": "​",
      "style": "IPY_MODEL_3f465ad63b7c471a903461c56644c97d",
      "value": "spiece.model: 100%"
     }
    },
    "10ba1649ddb7466b91f7377df3d29637": {
     "model_module": "@jupyter-widgets/base",
     "model_module_version": "1.2.0",
     "model_name": "LayoutModel",
     "state": {
      "_model_module": "@jupyter-widgets/base",
      "_model_module_version": "1.2.0",
      "_model_name": "LayoutModel",
      "_view_count": null,
      "_view_module": "@jupyter-widgets/base",
      "_view_module_version": "1.2.0",
      "_view_name": "LayoutView",
      "align_content": null,
      "align_items": null,
      "align_self": null,
      "border": null,
      "bottom": null,
      "display": null,
      "flex": null,
      "flex_flow": null,
      "grid_area": null,
      "grid_auto_columns": null,
      "grid_auto_flow": null,
      "grid_auto_rows": null,
      "grid_column": null,
      "grid_gap": null,
      "grid_row": null,
      "grid_template_areas": null,
      "grid_template_columns": null,
      "grid_template_rows": null,
      "height": null,
      "justify_content": null,
      "justify_items": null,
      "left": null,
      "margin": null,
      "max_height": null,
      "max_width": null,
      "min_height": null,
      "min_width": null,
      "object_fit": null,
      "object_position": null,
      "order": null,
      "overflow": null,
      "overflow_x": null,
      "overflow_y": null,
      "padding": null,
      "right": null,
      "top": null,
      "visibility": null,
      "width": null
     }
    },
    "14511e8c03a14925b6bf56b040d8dfef": {
     "model_module": "@jupyter-widgets/controls",
     "model_module_version": "1.5.0",
     "model_name": "HBoxModel",
     "state": {
      "_dom_classes": [],
      "_model_module": "@jupyter-widgets/controls",
      "_model_module_version": "1.5.0",
      "_model_name": "HBoxModel",
      "_view_count": null,
      "_view_module": "@jupyter-widgets/controls",
      "_view_module_version": "1.5.0",
      "_view_name": "HBoxView",
      "box_style": "",
      "children": [
       "IPY_MODEL_0c39c698094c456daff49633bb90d809",
       "IPY_MODEL_8198616acc224c4fb2e3f0996404caf1",
       "IPY_MODEL_761ad3fa2fcc4287b124f5c5347d4deb"
      ],
      "layout": "IPY_MODEL_fc3e258bb4024ed49ce4d5b9361df994"
     }
    },
    "15abeec7b653450c810ed4e50ecf98c9": {
     "model_module": "@jupyter-widgets/controls",
     "model_module_version": "1.5.0",
     "model_name": "DescriptionStyleModel",
     "state": {
      "_model_module": "@jupyter-widgets/controls",
      "_model_module_version": "1.5.0",
      "_model_name": "DescriptionStyleModel",
      "_view_count": null,
      "_view_module": "@jupyter-widgets/base",
      "_view_module_version": "1.2.0",
      "_view_name": "StyleView",
      "description_width": ""
     }
    },
    "1c40d3c7131f45b4854b3b921a7d34a6": {
     "model_module": "@jupyter-widgets/base",
     "model_module_version": "1.2.0",
     "model_name": "LayoutModel",
     "state": {
      "_model_module": "@jupyter-widgets/base",
      "_model_module_version": "1.2.0",
      "_model_name": "LayoutModel",
      "_view_count": null,
      "_view_module": "@jupyter-widgets/base",
      "_view_module_version": "1.2.0",
      "_view_name": "LayoutView",
      "align_content": null,
      "align_items": null,
      "align_self": null,
      "border": null,
      "bottom": null,
      "display": null,
      "flex": null,
      "flex_flow": null,
      "grid_area": null,
      "grid_auto_columns": null,
      "grid_auto_flow": null,
      "grid_auto_rows": null,
      "grid_column": null,
      "grid_gap": null,
      "grid_row": null,
      "grid_template_areas": null,
      "grid_template_columns": null,
      "grid_template_rows": null,
      "height": null,
      "justify_content": null,
      "justify_items": null,
      "left": null,
      "margin": null,
      "max_height": null,
      "max_width": null,
      "min_height": null,
      "min_width": null,
      "object_fit": null,
      "object_position": null,
      "order": null,
      "overflow": null,
      "overflow_x": null,
      "overflow_y": null,
      "padding": null,
      "right": null,
      "top": null,
      "visibility": null,
      "width": null
     }
    },
    "280fdc542a39472f923747ed5d1db95f": {
     "model_module": "@jupyter-widgets/controls",
     "model_module_version": "1.5.0",
     "model_name": "HTMLModel",
     "state": {
      "_dom_classes": [],
      "_model_module": "@jupyter-widgets/controls",
      "_model_module_version": "1.5.0",
      "_model_name": "HTMLModel",
      "_view_count": null,
      "_view_module": "@jupyter-widgets/controls",
      "_view_module_version": "1.5.0",
      "_view_name": "HTMLView",
      "description": "",
      "description_tooltip": null,
      "layout": "IPY_MODEL_85d386d377c5422e8b8a93691a591893",
      "placeholder": "​",
      "style": "IPY_MODEL_6a703bca3e8c4d2bb32ac926b4e72091",
      "value": " 792k/792k [00:00&lt;00:00, 3.44MB/s]"
     }
    },
    "30de7237040341f8b54c2fd44228872f": {
     "model_module": "@jupyter-widgets/base",
     "model_module_version": "1.2.0",
     "model_name": "LayoutModel",
     "state": {
      "_model_module": "@jupyter-widgets/base",
      "_model_module_version": "1.2.0",
      "_model_name": "LayoutModel",
      "_view_count": null,
      "_view_module": "@jupyter-widgets/base",
      "_view_module_version": "1.2.0",
      "_view_name": "LayoutView",
      "align_content": null,
      "align_items": null,
      "align_self": null,
      "border": null,
      "bottom": null,
      "display": null,
      "flex": null,
      "flex_flow": null,
      "grid_area": null,
      "grid_auto_columns": null,
      "grid_auto_flow": null,
      "grid_auto_rows": null,
      "grid_column": null,
      "grid_gap": null,
      "grid_row": null,
      "grid_template_areas": null,
      "grid_template_columns": null,
      "grid_template_rows": null,
      "height": null,
      "justify_content": null,
      "justify_items": null,
      "left": null,
      "margin": null,
      "max_height": null,
      "max_width": null,
      "min_height": null,
      "min_width": null,
      "object_fit": null,
      "object_position": null,
      "order": null,
      "overflow": null,
      "overflow_x": null,
      "overflow_y": null,
      "padding": null,
      "right": null,
      "top": null,
      "visibility": null,
      "width": null
     }
    },
    "31050f3460f84c3b84efd59c29b016c8": {
     "model_module": "@jupyter-widgets/controls",
     "model_module_version": "1.5.0",
     "model_name": "HBoxModel",
     "state": {
      "_dom_classes": [],
      "_model_module": "@jupyter-widgets/controls",
      "_model_module_version": "1.5.0",
      "_model_name": "HBoxModel",
      "_view_count": null,
      "_view_module": "@jupyter-widgets/controls",
      "_view_module_version": "1.5.0",
      "_view_name": "HBoxView",
      "box_style": "",
      "children": [
       "IPY_MODEL_5b9eaaff2db240c9a844a3e7d758f6ff",
       "IPY_MODEL_bc51cdcc5e0849878f3bfa94dbed4de6",
       "IPY_MODEL_d38b77c506ca43fe9b88ecfa1f35204a"
      ],
      "layout": "IPY_MODEL_37359d4d3fc14829a6e9da266faa8a96"
     }
    },
    "3614a9efe00f44219a222ae0e71afcc6": {
     "model_module": "@jupyter-widgets/controls",
     "model_module_version": "1.5.0",
     "model_name": "DescriptionStyleModel",
     "state": {
      "_model_module": "@jupyter-widgets/controls",
      "_model_module_version": "1.5.0",
      "_model_name": "DescriptionStyleModel",
      "_view_count": null,
      "_view_module": "@jupyter-widgets/base",
      "_view_module_version": "1.2.0",
      "_view_name": "StyleView",
      "description_width": ""
     }
    },
    "37359d4d3fc14829a6e9da266faa8a96": {
     "model_module": "@jupyter-widgets/base",
     "model_module_version": "1.2.0",
     "model_name": "LayoutModel",
     "state": {
      "_model_module": "@jupyter-widgets/base",
      "_model_module_version": "1.2.0",
      "_model_name": "LayoutModel",
      "_view_count": null,
      "_view_module": "@jupyter-widgets/base",
      "_view_module_version": "1.2.0",
      "_view_name": "LayoutView",
      "align_content": null,
      "align_items": null,
      "align_self": null,
      "border": null,
      "bottom": null,
      "display": null,
      "flex": null,
      "flex_flow": null,
      "grid_area": null,
      "grid_auto_columns": null,
      "grid_auto_flow": null,
      "grid_auto_rows": null,
      "grid_column": null,
      "grid_gap": null,
      "grid_row": null,
      "grid_template_areas": null,
      "grid_template_columns": null,
      "grid_template_rows": null,
      "height": null,
      "justify_content": null,
      "justify_items": null,
      "left": null,
      "margin": null,
      "max_height": null,
      "max_width": null,
      "min_height": null,
      "min_width": null,
      "object_fit": null,
      "object_position": null,
      "order": null,
      "overflow": null,
      "overflow_x": null,
      "overflow_y": null,
      "padding": null,
      "right": null,
      "top": null,
      "visibility": null,
      "width": null
     }
    },
    "397faf01f70c4e258ce30838e1bd221b": {
     "model_module": "@jupyter-widgets/controls",
     "model_module_version": "1.5.0",
     "model_name": "HTMLModel",
     "state": {
      "_dom_classes": [],
      "_model_module": "@jupyter-widgets/controls",
      "_model_module_version": "1.5.0",
      "_model_name": "HTMLModel",
      "_view_count": null,
      "_view_module": "@jupyter-widgets/controls",
      "_view_module_version": "1.5.0",
      "_view_name": "HTMLView",
      "description": "",
      "description_tooltip": null,
      "layout": "IPY_MODEL_af29958641174c889c936b3983584678",
      "placeholder": "​",
      "style": "IPY_MODEL_d78d3fcf2cd04725851ab1ba40af2e5b",
      "value": " 2.42M/2.42M [00:00&lt;00:00, 25.3MB/s]"
     }
    },
    "3b9593d562f046a4a2b90b222684c8a7": {
     "model_module": "@jupyter-widgets/controls",
     "model_module_version": "1.5.0",
     "model_name": "HTMLModel",
     "state": {
      "_dom_classes": [],
      "_model_module": "@jupyter-widgets/controls",
      "_model_module_version": "1.5.0",
      "_model_name": "HTMLModel",
      "_view_count": null,
      "_view_module": "@jupyter-widgets/controls",
      "_view_module_version": "1.5.0",
      "_view_name": "HTMLView",
      "description": "",
      "description_tooltip": null,
      "layout": "IPY_MODEL_8b3a166364204168869b8e0d2ecd2c84",
      "placeholder": "​",
      "style": "IPY_MODEL_6d6e5169fc1d4db38fe06cd19eaa8cdc",
      "value": "spiece.model: 100%"
     }
    },
    "3f465ad63b7c471a903461c56644c97d": {
     "model_module": "@jupyter-widgets/controls",
     "model_module_version": "1.5.0",
     "model_name": "DescriptionStyleModel",
     "state": {
      "_model_module": "@jupyter-widgets/controls",
      "_model_module_version": "1.5.0",
      "_model_name": "DescriptionStyleModel",
      "_view_count": null,
      "_view_module": "@jupyter-widgets/base",
      "_view_module_version": "1.2.0",
      "_view_name": "StyleView",
      "description_width": ""
     }
    },
    "418ee4e8dc424344a9820d154b64f2b3": {
     "model_module": "@jupyter-widgets/controls",
     "model_module_version": "1.5.0",
     "model_name": "DescriptionStyleModel",
     "state": {
      "_model_module": "@jupyter-widgets/controls",
      "_model_module_version": "1.5.0",
      "_model_name": "DescriptionStyleModel",
      "_view_count": null,
      "_view_module": "@jupyter-widgets/base",
      "_view_module_version": "1.2.0",
      "_view_name": "StyleView",
      "description_width": ""
     }
    },
    "42807efedec242c4be94ed83070fcc3d": {
     "model_module": "@jupyter-widgets/base",
     "model_module_version": "1.2.0",
     "model_name": "LayoutModel",
     "state": {
      "_model_module": "@jupyter-widgets/base",
      "_model_module_version": "1.2.0",
      "_model_name": "LayoutModel",
      "_view_count": null,
      "_view_module": "@jupyter-widgets/base",
      "_view_module_version": "1.2.0",
      "_view_name": "LayoutView",
      "align_content": null,
      "align_items": null,
      "align_self": null,
      "border": null,
      "bottom": null,
      "display": null,
      "flex": null,
      "flex_flow": null,
      "grid_area": null,
      "grid_auto_columns": null,
      "grid_auto_flow": null,
      "grid_auto_rows": null,
      "grid_column": null,
      "grid_gap": null,
      "grid_row": null,
      "grid_template_areas": null,
      "grid_template_columns": null,
      "grid_template_rows": null,
      "height": null,
      "justify_content": null,
      "justify_items": null,
      "left": null,
      "margin": null,
      "max_height": null,
      "max_width": null,
      "min_height": null,
      "min_width": null,
      "object_fit": null,
      "object_position": null,
      "order": null,
      "overflow": null,
      "overflow_x": null,
      "overflow_y": null,
      "padding": null,
      "right": null,
      "top": null,
      "visibility": null,
      "width": null
     }
    },
    "44aceed958204007b4dce9c31d23ee64": {
     "model_module": "@jupyter-widgets/base",
     "model_module_version": "1.2.0",
     "model_name": "LayoutModel",
     "state": {
      "_model_module": "@jupyter-widgets/base",
      "_model_module_version": "1.2.0",
      "_model_name": "LayoutModel",
      "_view_count": null,
      "_view_module": "@jupyter-widgets/base",
      "_view_module_version": "1.2.0",
      "_view_name": "LayoutView",
      "align_content": null,
      "align_items": null,
      "align_self": null,
      "border": null,
      "bottom": null,
      "display": null,
      "flex": null,
      "flex_flow": null,
      "grid_area": null,
      "grid_auto_columns": null,
      "grid_auto_flow": null,
      "grid_auto_rows": null,
      "grid_column": null,
      "grid_gap": null,
      "grid_row": null,
      "grid_template_areas": null,
      "grid_template_columns": null,
      "grid_template_rows": null,
      "height": null,
      "justify_content": null,
      "justify_items": null,
      "left": null,
      "margin": null,
      "max_height": null,
      "max_width": null,
      "min_height": null,
      "min_width": null,
      "object_fit": null,
      "object_position": null,
      "order": null,
      "overflow": null,
      "overflow_x": null,
      "overflow_y": null,
      "padding": null,
      "right": null,
      "top": null,
      "visibility": null,
      "width": null
     }
    },
    "46d3d5d841744101859cac9ee6c8d323": {
     "model_module": "@jupyter-widgets/controls",
     "model_module_version": "1.5.0",
     "model_name": "ProgressStyleModel",
     "state": {
      "_model_module": "@jupyter-widgets/controls",
      "_model_module_version": "1.5.0",
      "_model_name": "ProgressStyleModel",
      "_view_count": null,
      "_view_module": "@jupyter-widgets/base",
      "_view_module_version": "1.2.0",
      "_view_name": "StyleView",
      "bar_color": null,
      "description_width": ""
     }
    },
    "4985683c712540e9b27f4361f3fce58d": {
     "model_module": "@jupyter-widgets/controls",
     "model_module_version": "1.5.0",
     "model_name": "ProgressStyleModel",
     "state": {
      "_model_module": "@jupyter-widgets/controls",
      "_model_module_version": "1.5.0",
      "_model_name": "ProgressStyleModel",
      "_view_count": null,
      "_view_module": "@jupyter-widgets/base",
      "_view_module_version": "1.2.0",
      "_view_name": "StyleView",
      "bar_color": null,
      "description_width": ""
     }
    },
    "4d67458f0142410eada6fe37b48a763b": {
     "model_module": "@jupyter-widgets/controls",
     "model_module_version": "1.5.0",
     "model_name": "HTMLModel",
     "state": {
      "_dom_classes": [],
      "_model_module": "@jupyter-widgets/controls",
      "_model_module_version": "1.5.0",
      "_model_name": "HTMLModel",
      "_view_count": null,
      "_view_module": "@jupyter-widgets/controls",
      "_view_module_version": "1.5.0",
      "_view_name": "HTMLView",
      "description": "",
      "description_tooltip": null,
      "layout": "IPY_MODEL_7083ab31ffdd405dbd452ea8d856f4f9",
      "placeholder": "​",
      "style": "IPY_MODEL_3614a9efe00f44219a222ae0e71afcc6",
      "value": "model.safetensors: 100%"
     }
    },
    "4de2d81d2d3345c590a39e745ad5cccd": {
     "model_module": "@jupyter-widgets/controls",
     "model_module_version": "1.5.0",
     "model_name": "FloatProgressModel",
     "state": {
      "_dom_classes": [],
      "_model_module": "@jupyter-widgets/controls",
      "_model_module_version": "1.5.0",
      "_model_name": "FloatProgressModel",
      "_view_count": null,
      "_view_module": "@jupyter-widgets/controls",
      "_view_module_version": "1.5.0",
      "_view_name": "ProgressView",
      "bar_style": "success",
      "description": "",
      "description_tooltip": null,
      "layout": "IPY_MODEL_dcd6ad719da34c35bf25268d9d8fcf4e",
      "max": 20817,
      "min": 0,
      "orientation": "horizontal",
      "style": "IPY_MODEL_c4a55301926b4ca1ad5f8fad8e2abed8",
      "value": 20817
     }
    },
    "50b7ebc8bf414fa68b84943165eb0cb4": {
     "model_module": "@jupyter-widgets/base",
     "model_module_version": "1.2.0",
     "model_name": "LayoutModel",
     "state": {
      "_model_module": "@jupyter-widgets/base",
      "_model_module_version": "1.2.0",
      "_model_name": "LayoutModel",
      "_view_count": null,
      "_view_module": "@jupyter-widgets/base",
      "_view_module_version": "1.2.0",
      "_view_name": "LayoutView",
      "align_content": null,
      "align_items": null,
      "align_self": null,
      "border": null,
      "bottom": null,
      "display": null,
      "flex": null,
      "flex_flow": null,
      "grid_area": null,
      "grid_auto_columns": null,
      "grid_auto_flow": null,
      "grid_auto_rows": null,
      "grid_column": null,
      "grid_gap": null,
      "grid_row": null,
      "grid_template_areas": null,
      "grid_template_columns": null,
      "grid_template_rows": null,
      "height": null,
      "justify_content": null,
      "justify_items": null,
      "left": null,
      "margin": null,
      "max_height": null,
      "max_width": null,
      "min_height": null,
      "min_width": null,
      "object_fit": null,
      "object_position": null,
      "order": null,
      "overflow": null,
      "overflow_x": null,
      "overflow_y": null,
      "padding": null,
      "right": null,
      "top": null,
      "visibility": null,
      "width": null
     }
    },
    "569c96a2ad3d4a25957f04f70c840f00": {
     "model_module": "@jupyter-widgets/base",
     "model_module_version": "1.2.0",
     "model_name": "LayoutModel",
     "state": {
      "_model_module": "@jupyter-widgets/base",
      "_model_module_version": "1.2.0",
      "_model_name": "LayoutModel",
      "_view_count": null,
      "_view_module": "@jupyter-widgets/base",
      "_view_module_version": "1.2.0",
      "_view_name": "LayoutView",
      "align_content": null,
      "align_items": null,
      "align_self": null,
      "border": null,
      "bottom": null,
      "display": null,
      "flex": null,
      "flex_flow": null,
      "grid_area": null,
      "grid_auto_columns": null,
      "grid_auto_flow": null,
      "grid_auto_rows": null,
      "grid_column": null,
      "grid_gap": null,
      "grid_row": null,
      "grid_template_areas": null,
      "grid_template_columns": null,
      "grid_template_rows": null,
      "height": null,
      "justify_content": null,
      "justify_items": null,
      "left": null,
      "margin": null,
      "max_height": null,
      "max_width": null,
      "min_height": null,
      "min_width": null,
      "object_fit": null,
      "object_position": null,
      "order": null,
      "overflow": null,
      "overflow_x": null,
      "overflow_y": null,
      "padding": null,
      "right": null,
      "top": null,
      "visibility": null,
      "width": null
     }
    },
    "5b9eaaff2db240c9a844a3e7d758f6ff": {
     "model_module": "@jupyter-widgets/controls",
     "model_module_version": "1.5.0",
     "model_name": "HTMLModel",
     "state": {
      "_dom_classes": [],
      "_model_module": "@jupyter-widgets/controls",
      "_model_module_version": "1.5.0",
      "_model_name": "HTMLModel",
      "_view_count": null,
      "_view_module": "@jupyter-widgets/controls",
      "_view_module_version": "1.5.0",
      "_view_name": "HTMLView",
      "description": "",
      "description_tooltip": null,
      "layout": "IPY_MODEL_30de7237040341f8b54c2fd44228872f",
      "placeholder": "​",
      "style": "IPY_MODEL_a43698d17ab446168d10d47abd9e2272",
      "value": "README.md: 100%"
     }
    },
    "6307d6e3d2054194b527500295e2ff5b": {
     "model_module": "@jupyter-widgets/controls",
     "model_module_version": "1.5.0",
     "model_name": "DescriptionStyleModel",
     "state": {
      "_model_module": "@jupyter-widgets/controls",
      "_model_module_version": "1.5.0",
      "_model_name": "DescriptionStyleModel",
      "_view_count": null,
      "_view_module": "@jupyter-widgets/base",
      "_view_module_version": "1.2.0",
      "_view_name": "StyleView",
      "description_width": ""
     }
    },
    "6618a12cef33478aacb27e8aee806239": {
     "model_module": "@jupyter-widgets/controls",
     "model_module_version": "1.5.0",
     "model_name": "HTMLModel",
     "state": {
      "_dom_classes": [],
      "_model_module": "@jupyter-widgets/controls",
      "_model_module_version": "1.5.0",
      "_model_name": "HTMLModel",
      "_view_count": null,
      "_view_module": "@jupyter-widgets/controls",
      "_view_module_version": "1.5.0",
      "_view_name": "HTMLView",
      "description": "",
      "description_tooltip": null,
      "layout": "IPY_MODEL_030d760aabec423d9454153caee5daef",
      "placeholder": "​",
      "style": "IPY_MODEL_15abeec7b653450c810ed4e50ecf98c9",
      "value": " 2.54k/2.54k [00:00&lt;00:00, 166kB/s]"
     }
    },
    "68cd8b5fc09f4d2ca2134df6ebdb3727": {
     "model_module": "@jupyter-widgets/base",
     "model_module_version": "1.2.0",
     "model_name": "LayoutModel",
     "state": {
      "_model_module": "@jupyter-widgets/base",
      "_model_module_version": "1.2.0",
      "_model_name": "LayoutModel",
      "_view_count": null,
      "_view_module": "@jupyter-widgets/base",
      "_view_module_version": "1.2.0",
      "_view_name": "LayoutView",
      "align_content": null,
      "align_items": null,
      "align_self": null,
      "border": null,
      "bottom": null,
      "display": null,
      "flex": null,
      "flex_flow": null,
      "grid_area": null,
      "grid_auto_columns": null,
      "grid_auto_flow": null,
      "grid_auto_rows": null,
      "grid_column": null,
      "grid_gap": null,
      "grid_row": null,
      "grid_template_areas": null,
      "grid_template_columns": null,
      "grid_template_rows": null,
      "height": null,
      "justify_content": null,
      "justify_items": null,
      "left": null,
      "margin": null,
      "max_height": null,
      "max_width": null,
      "min_height": null,
      "min_width": null,
      "object_fit": null,
      "object_position": null,
      "order": null,
      "overflow": null,
      "overflow_x": null,
      "overflow_y": null,
      "padding": null,
      "right": null,
      "top": null,
      "visibility": null,
      "width": null
     }
    },
    "6a703bca3e8c4d2bb32ac926b4e72091": {
     "model_module": "@jupyter-widgets/controls",
     "model_module_version": "1.5.0",
     "model_name": "DescriptionStyleModel",
     "state": {
      "_model_module": "@jupyter-widgets/controls",
      "_model_module_version": "1.5.0",
      "_model_name": "DescriptionStyleModel",
      "_view_count": null,
      "_view_module": "@jupyter-widgets/base",
      "_view_module_version": "1.2.0",
      "_view_name": "StyleView",
      "description_width": ""
     }
    },
    "6d6e5169fc1d4db38fe06cd19eaa8cdc": {
     "model_module": "@jupyter-widgets/controls",
     "model_module_version": "1.5.0",
     "model_name": "DescriptionStyleModel",
     "state": {
      "_model_module": "@jupyter-widgets/controls",
      "_model_module_version": "1.5.0",
      "_model_name": "DescriptionStyleModel",
      "_view_count": null,
      "_view_module": "@jupyter-widgets/base",
      "_view_module_version": "1.2.0",
      "_view_name": "StyleView",
      "description_width": ""
     }
    },
    "7083ab31ffdd405dbd452ea8d856f4f9": {
     "model_module": "@jupyter-widgets/base",
     "model_module_version": "1.2.0",
     "model_name": "LayoutModel",
     "state": {
      "_model_module": "@jupyter-widgets/base",
      "_model_module_version": "1.2.0",
      "_model_name": "LayoutModel",
      "_view_count": null,
      "_view_module": "@jupyter-widgets/base",
      "_view_module_version": "1.2.0",
      "_view_name": "LayoutView",
      "align_content": null,
      "align_items": null,
      "align_self": null,
      "border": null,
      "bottom": null,
      "display": null,
      "flex": null,
      "flex_flow": null,
      "grid_area": null,
      "grid_auto_columns": null,
      "grid_auto_flow": null,
      "grid_auto_rows": null,
      "grid_column": null,
      "grid_gap": null,
      "grid_row": null,
      "grid_template_areas": null,
      "grid_template_columns": null,
      "grid_template_rows": null,
      "height": null,
      "justify_content": null,
      "justify_items": null,
      "left": null,
      "margin": null,
      "max_height": null,
      "max_width": null,
      "min_height": null,
      "min_width": null,
      "object_fit": null,
      "object_position": null,
      "order": null,
      "overflow": null,
      "overflow_x": null,
      "overflow_y": null,
      "padding": null,
      "right": null,
      "top": null,
      "visibility": null,
      "width": null
     }
    },
    "73f20d75acb94f758b06f3cfb0d4ebec": {
     "model_module": "@jupyter-widgets/controls",
     "model_module_version": "1.5.0",
     "model_name": "ProgressStyleModel",
     "state": {
      "_model_module": "@jupyter-widgets/controls",
      "_model_module_version": "1.5.0",
      "_model_name": "ProgressStyleModel",
      "_view_count": null,
      "_view_module": "@jupyter-widgets/base",
      "_view_module_version": "1.2.0",
      "_view_name": "StyleView",
      "bar_color": null,
      "description_width": ""
     }
    },
    "761ad3fa2fcc4287b124f5c5347d4deb": {
     "model_module": "@jupyter-widgets/controls",
     "model_module_version": "1.5.0",
     "model_name": "HTMLModel",
     "state": {
      "_dom_classes": [],
      "_model_module": "@jupyter-widgets/controls",
      "_model_module_version": "1.5.0",
      "_model_name": "HTMLModel",
      "_view_count": null,
      "_view_module": "@jupyter-widgets/controls",
      "_view_module_version": "1.5.0",
      "_view_name": "HTMLView",
      "description": "",
      "description_tooltip": null,
      "layout": "IPY_MODEL_e7a5f61186184c5f953792705e0a3378",
      "placeholder": "​",
      "style": "IPY_MODEL_c0935ce5cb8046c8aa1f41af7b551f4d",
      "value": " 792k/792k [00:00&lt;00:00, 9.32MB/s]"
     }
    },
    "7ac00f0d87d946aa96e300f38904729b": {
     "model_module": "@jupyter-widgets/controls",
     "model_module_version": "1.5.0",
     "model_name": "DescriptionStyleModel",
     "state": {
      "_model_module": "@jupyter-widgets/controls",
      "_model_module_version": "1.5.0",
      "_model_name": "DescriptionStyleModel",
      "_view_count": null,
      "_view_module": "@jupyter-widgets/base",
      "_view_module_version": "1.2.0",
      "_view_name": "StyleView",
      "description_width": ""
     }
    },
    "8198616acc224c4fb2e3f0996404caf1": {
     "model_module": "@jupyter-widgets/controls",
     "model_module_version": "1.5.0",
     "model_name": "FloatProgressModel",
     "state": {
      "_dom_classes": [],
      "_model_module": "@jupyter-widgets/controls",
      "_model_module_version": "1.5.0",
      "_model_name": "FloatProgressModel",
      "_view_count": null,
      "_view_module": "@jupyter-widgets/controls",
      "_view_module_version": "1.5.0",
      "_view_name": "ProgressView",
      "bar_style": "success",
      "description": "",
      "description_tooltip": null,
      "layout": "IPY_MODEL_cf6980617c6f4806a7c5139751de9703",
      "max": 791656,
      "min": 0,
      "orientation": "horizontal",
      "style": "IPY_MODEL_46d3d5d841744101859cac9ee6c8d323",
      "value": 791656
     }
    },
    "8569b46505c341d486f9654c952cf288": {
     "model_module": "@jupyter-widgets/controls",
     "model_module_version": "1.5.0",
     "model_name": "ProgressStyleModel",
     "state": {
      "_model_module": "@jupyter-widgets/controls",
      "_model_module_version": "1.5.0",
      "_model_name": "ProgressStyleModel",
      "_view_count": null,
      "_view_module": "@jupyter-widgets/base",
      "_view_module_version": "1.2.0",
      "_view_name": "StyleView",
      "bar_color": null,
      "description_width": ""
     }
    },
    "85d386d377c5422e8b8a93691a591893": {
     "model_module": "@jupyter-widgets/base",
     "model_module_version": "1.2.0",
     "model_name": "LayoutModel",
     "state": {
      "_model_module": "@jupyter-widgets/base",
      "_model_module_version": "1.2.0",
      "_model_name": "LayoutModel",
      "_view_count": null,
      "_view_module": "@jupyter-widgets/base",
      "_view_module_version": "1.2.0",
      "_view_name": "LayoutView",
      "align_content": null,
      "align_items": null,
      "align_self": null,
      "border": null,
      "bottom": null,
      "display": null,
      "flex": null,
      "flex_flow": null,
      "grid_area": null,
      "grid_auto_columns": null,
      "grid_auto_flow": null,
      "grid_auto_rows": null,
      "grid_column": null,
      "grid_gap": null,
      "grid_row": null,
      "grid_template_areas": null,
      "grid_template_columns": null,
      "grid_template_rows": null,
      "height": null,
      "justify_content": null,
      "justify_items": null,
      "left": null,
      "margin": null,
      "max_height": null,
      "max_width": null,
      "min_height": null,
      "min_width": null,
      "object_fit": null,
      "object_position": null,
      "order": null,
      "overflow": null,
      "overflow_x": null,
      "overflow_y": null,
      "padding": null,
      "right": null,
      "top": null,
      "visibility": null,
      "width": null
     }
    },
    "8b3a166364204168869b8e0d2ecd2c84": {
     "model_module": "@jupyter-widgets/base",
     "model_module_version": "1.2.0",
     "model_name": "LayoutModel",
     "state": {
      "_model_module": "@jupyter-widgets/base",
      "_model_module_version": "1.2.0",
      "_model_name": "LayoutModel",
      "_view_count": null,
      "_view_module": "@jupyter-widgets/base",
      "_view_module_version": "1.2.0",
      "_view_name": "LayoutView",
      "align_content": null,
      "align_items": null,
      "align_self": null,
      "border": null,
      "bottom": null,
      "display": null,
      "flex": null,
      "flex_flow": null,
      "grid_area": null,
      "grid_auto_columns": null,
      "grid_auto_flow": null,
      "grid_auto_rows": null,
      "grid_column": null,
      "grid_gap": null,
      "grid_row": null,
      "grid_template_areas": null,
      "grid_template_columns": null,
      "grid_template_rows": null,
      "height": null,
      "justify_content": null,
      "justify_items": null,
      "left": null,
      "margin": null,
      "max_height": null,
      "max_width": null,
      "min_height": null,
      "min_width": null,
      "object_fit": null,
      "object_position": null,
      "order": null,
      "overflow": null,
      "overflow_x": null,
      "overflow_y": null,
      "padding": null,
      "right": null,
      "top": null,
      "visibility": null,
      "width": null
     }
    },
    "97d902f113fc45acbc0ba28f588f1f36": {
     "model_module": "@jupyter-widgets/controls",
     "model_module_version": "1.5.0",
     "model_name": "HBoxModel",
     "state": {
      "_dom_classes": [],
      "_model_module": "@jupyter-widgets/controls",
      "_model_module_version": "1.5.0",
      "_model_name": "HBoxModel",
      "_view_count": null,
      "_view_module": "@jupyter-widgets/controls",
      "_view_module_version": "1.5.0",
      "_view_name": "HBoxView",
      "box_style": "",
      "children": [
       "IPY_MODEL_4d67458f0142410eada6fe37b48a763b",
       "IPY_MODEL_c942d185b0d5462faf52ab9cfc4f3c49",
       "IPY_MODEL_c66347b93eee4bdd8ca17e55f079e444"
      ],
      "layout": "IPY_MODEL_b6a54ad0c6a347b789f378f6b1815a05"
     }
    },
    "9a6abde9e0b54a41830b01726f948eee": {
     "model_module": "@jupyter-widgets/base",
     "model_module_version": "1.2.0",
     "model_name": "LayoutModel",
     "state": {
      "_model_module": "@jupyter-widgets/base",
      "_model_module_version": "1.2.0",
      "_model_name": "LayoutModel",
      "_view_count": null,
      "_view_module": "@jupyter-widgets/base",
      "_view_module_version": "1.2.0",
      "_view_name": "LayoutView",
      "align_content": null,
      "align_items": null,
      "align_self": null,
      "border": null,
      "bottom": null,
      "display": null,
      "flex": null,
      "flex_flow": null,
      "grid_area": null,
      "grid_auto_columns": null,
      "grid_auto_flow": null,
      "grid_auto_rows": null,
      "grid_column": null,
      "grid_gap": null,
      "grid_row": null,
      "grid_template_areas": null,
      "grid_template_columns": null,
      "grid_template_rows": null,
      "height": null,
      "justify_content": null,
      "justify_items": null,
      "left": null,
      "margin": null,
      "max_height": null,
      "max_width": null,
      "min_height": null,
      "min_width": null,
      "object_fit": null,
      "object_position": null,
      "order": null,
      "overflow": null,
      "overflow_x": null,
      "overflow_y": null,
      "padding": null,
      "right": null,
      "top": null,
      "visibility": null,
      "width": null
     }
    },
    "9c6e68da3a9f484093a3af7188c7e6d3": {
     "model_module": "@jupyter-widgets/base",
     "model_module_version": "1.2.0",
     "model_name": "LayoutModel",
     "state": {
      "_model_module": "@jupyter-widgets/base",
      "_model_module_version": "1.2.0",
      "_model_name": "LayoutModel",
      "_view_count": null,
      "_view_module": "@jupyter-widgets/base",
      "_view_module_version": "1.2.0",
      "_view_name": "LayoutView",
      "align_content": null,
      "align_items": null,
      "align_self": null,
      "border": null,
      "bottom": null,
      "display": null,
      "flex": null,
      "flex_flow": null,
      "grid_area": null,
      "grid_auto_columns": null,
      "grid_auto_flow": null,
      "grid_auto_rows": null,
      "grid_column": null,
      "grid_gap": null,
      "grid_row": null,
      "grid_template_areas": null,
      "grid_template_columns": null,
      "grid_template_rows": null,
      "height": null,
      "justify_content": null,
      "justify_items": null,
      "left": null,
      "margin": null,
      "max_height": null,
      "max_width": null,
      "min_height": null,
      "min_width": null,
      "object_fit": null,
      "object_position": null,
      "order": null,
      "overflow": null,
      "overflow_x": null,
      "overflow_y": null,
      "padding": null,
      "right": null,
      "top": null,
      "visibility": null,
      "width": null
     }
    },
    "9c8a3091b33f4c6fb7837a14de6533e3": {
     "model_module": "@jupyter-widgets/controls",
     "model_module_version": "1.5.0",
     "model_name": "HTMLModel",
     "state": {
      "_dom_classes": [],
      "_model_module": "@jupyter-widgets/controls",
      "_model_module_version": "1.5.0",
      "_model_name": "HTMLModel",
      "_view_count": null,
      "_view_module": "@jupyter-widgets/controls",
      "_view_module_version": "1.5.0",
      "_view_name": "HTMLView",
      "description": "",
      "description_tooltip": null,
      "layout": "IPY_MODEL_9a6abde9e0b54a41830b01726f948eee",
      "placeholder": "​",
      "style": "IPY_MODEL_6307d6e3d2054194b527500295e2ff5b",
      "value": "special_tokens_map.json: 100%"
     }
    },
    "9f02f1bfe1bc47f98df7d6218cf8546c": {
     "model_module": "@jupyter-widgets/controls",
     "model_module_version": "1.5.0",
     "model_name": "HTMLModel",
     "state": {
      "_dom_classes": [],
      "_model_module": "@jupyter-widgets/controls",
      "_model_module_version": "1.5.0",
      "_model_name": "HTMLModel",
      "_view_count": null,
      "_view_module": "@jupyter-widgets/controls",
      "_view_module_version": "1.5.0",
      "_view_name": "HTMLView",
      "description": "",
      "description_tooltip": null,
      "layout": "IPY_MODEL_fb3617ceb45c40a28fbd002be9d7b435",
      "placeholder": "​",
      "style": "IPY_MODEL_7ac00f0d87d946aa96e300f38904729b",
      "value": "tokenizer_config.json: 100%"
     }
    },
    "a1abdc1153184cb5a1f89ff29f8500eb": {
     "model_module": "@jupyter-widgets/controls",
     "model_module_version": "1.5.0",
     "model_name": "ProgressStyleModel",
     "state": {
      "_model_module": "@jupyter-widgets/controls",
      "_model_module_version": "1.5.0",
      "_model_name": "ProgressStyleModel",
      "_view_count": null,
      "_view_module": "@jupyter-widgets/base",
      "_view_module_version": "1.2.0",
      "_view_name": "StyleView",
      "bar_color": null,
      "description_width": ""
     }
    },
    "a43698d17ab446168d10d47abd9e2272": {
     "model_module": "@jupyter-widgets/controls",
     "model_module_version": "1.5.0",
     "model_name": "DescriptionStyleModel",
     "state": {
      "_model_module": "@jupyter-widgets/controls",
      "_model_module_version": "1.5.0",
      "_model_name": "DescriptionStyleModel",
      "_view_count": null,
      "_view_module": "@jupyter-widgets/base",
      "_view_module_version": "1.2.0",
      "_view_name": "StyleView",
      "description_width": ""
     }
    },
    "a57e692eccb949d5a0bd811bcbb7ed4d": {
     "model_module": "@jupyter-widgets/controls",
     "model_module_version": "1.5.0",
     "model_name": "HBoxModel",
     "state": {
      "_dom_classes": [],
      "_model_module": "@jupyter-widgets/controls",
      "_model_module_version": "1.5.0",
      "_model_name": "HBoxModel",
      "_view_count": null,
      "_view_module": "@jupyter-widgets/controls",
      "_view_module_version": "1.5.0",
      "_view_name": "HBoxView",
      "box_style": "",
      "children": [
       "IPY_MODEL_e7c03bc1246a40ae9697957587f9bf73",
       "IPY_MODEL_e0f9e9b3ace34c8b8206a3ebab1a9e24",
       "IPY_MODEL_397faf01f70c4e258ce30838e1bd221b"
      ],
      "layout": "IPY_MODEL_68cd8b5fc09f4d2ca2134df6ebdb3727"
     }
    },
    "af29958641174c889c936b3983584678": {
     "model_module": "@jupyter-widgets/base",
     "model_module_version": "1.2.0",
     "model_name": "LayoutModel",
     "state": {
      "_model_module": "@jupyter-widgets/base",
      "_model_module_version": "1.2.0",
      "_model_name": "LayoutModel",
      "_view_count": null,
      "_view_module": "@jupyter-widgets/base",
      "_view_module_version": "1.2.0",
      "_view_name": "LayoutView",
      "align_content": null,
      "align_items": null,
      "align_self": null,
      "border": null,
      "bottom": null,
      "display": null,
      "flex": null,
      "flex_flow": null,
      "grid_area": null,
      "grid_auto_columns": null,
      "grid_auto_flow": null,
      "grid_auto_rows": null,
      "grid_column": null,
      "grid_gap": null,
      "grid_row": null,
      "grid_template_areas": null,
      "grid_template_columns": null,
      "grid_template_rows": null,
      "height": null,
      "justify_content": null,
      "justify_items": null,
      "left": null,
      "margin": null,
      "max_height": null,
      "max_width": null,
      "min_height": null,
      "min_width": null,
      "object_fit": null,
      "object_position": null,
      "order": null,
      "overflow": null,
      "overflow_x": null,
      "overflow_y": null,
      "padding": null,
      "right": null,
      "top": null,
      "visibility": null,
      "width": null
     }
    },
    "b1c3cf3301db43b7a663ad271f3d5fe7": {
     "model_module": "@jupyter-widgets/base",
     "model_module_version": "1.2.0",
     "model_name": "LayoutModel",
     "state": {
      "_model_module": "@jupyter-widgets/base",
      "_model_module_version": "1.2.0",
      "_model_name": "LayoutModel",
      "_view_count": null,
      "_view_module": "@jupyter-widgets/base",
      "_view_module_version": "1.2.0",
      "_view_name": "LayoutView",
      "align_content": null,
      "align_items": null,
      "align_self": null,
      "border": null,
      "bottom": null,
      "display": null,
      "flex": null,
      "flex_flow": null,
      "grid_area": null,
      "grid_auto_columns": null,
      "grid_auto_flow": null,
      "grid_auto_rows": null,
      "grid_column": null,
      "grid_gap": null,
      "grid_row": null,
      "grid_template_areas": null,
      "grid_template_columns": null,
      "grid_template_rows": null,
      "height": null,
      "justify_content": null,
      "justify_items": null,
      "left": null,
      "margin": null,
      "max_height": null,
      "max_width": null,
      "min_height": null,
      "min_width": null,
      "object_fit": null,
      "object_position": null,
      "order": null,
      "overflow": null,
      "overflow_x": null,
      "overflow_y": null,
      "padding": null,
      "right": null,
      "top": null,
      "visibility": null,
      "width": null
     }
    },
    "b69a33014b934812aedf8d04f63cdcb7": {
     "model_module": "@jupyter-widgets/controls",
     "model_module_version": "1.5.0",
     "model_name": "FloatProgressModel",
     "state": {
      "_dom_classes": [],
      "_model_module": "@jupyter-widgets/controls",
      "_model_module_version": "1.5.0",
      "_model_name": "FloatProgressModel",
      "_view_count": null,
      "_view_module": "@jupyter-widgets/controls",
      "_view_module_version": "1.5.0",
      "_view_name": "ProgressView",
      "bar_style": "success",
      "description": "",
      "description_tooltip": null,
      "layout": "IPY_MODEL_ebbeb3e486ca4327bdb5481bd658ddac",
      "max": 791656,
      "min": 0,
      "orientation": "horizontal",
      "style": "IPY_MODEL_a1abdc1153184cb5a1f89ff29f8500eb",
      "value": 791656
     }
    },
    "b6a54ad0c6a347b789f378f6b1815a05": {
     "model_module": "@jupyter-widgets/base",
     "model_module_version": "1.2.0",
     "model_name": "LayoutModel",
     "state": {
      "_model_module": "@jupyter-widgets/base",
      "_model_module_version": "1.2.0",
      "_model_name": "LayoutModel",
      "_view_count": null,
      "_view_module": "@jupyter-widgets/base",
      "_view_module_version": "1.2.0",
      "_view_name": "LayoutView",
      "align_content": null,
      "align_items": null,
      "align_self": null,
      "border": null,
      "bottom": null,
      "display": null,
      "flex": null,
      "flex_flow": null,
      "grid_area": null,
      "grid_auto_columns": null,
      "grid_auto_flow": null,
      "grid_auto_rows": null,
      "grid_column": null,
      "grid_gap": null,
      "grid_row": null,
      "grid_template_areas": null,
      "grid_template_columns": null,
      "grid_template_rows": null,
      "height": null,
      "justify_content": null,
      "justify_items": null,
      "left": null,
      "margin": null,
      "max_height": null,
      "max_width": null,
      "min_height": null,
      "min_width": null,
      "object_fit": null,
      "object_position": null,
      "order": null,
      "overflow": null,
      "overflow_x": null,
      "overflow_y": null,
      "padding": null,
      "right": null,
      "top": null,
      "visibility": null,
      "width": null
     }
    },
    "b75a2d49e22c4cb081b712600b56b9b5": {
     "model_module": "@jupyter-widgets/controls",
     "model_module_version": "1.5.0",
     "model_name": "DescriptionStyleModel",
     "state": {
      "_model_module": "@jupyter-widgets/controls",
      "_model_module_version": "1.5.0",
      "_model_name": "DescriptionStyleModel",
      "_view_count": null,
      "_view_module": "@jupyter-widgets/base",
      "_view_module_version": "1.2.0",
      "_view_name": "StyleView",
      "description_width": ""
     }
    },
    "b8de335a25164231856433c63990c47a": {
     "model_module": "@jupyter-widgets/base",
     "model_module_version": "1.2.0",
     "model_name": "LayoutModel",
     "state": {
      "_model_module": "@jupyter-widgets/base",
      "_model_module_version": "1.2.0",
      "_model_name": "LayoutModel",
      "_view_count": null,
      "_view_module": "@jupyter-widgets/base",
      "_view_module_version": "1.2.0",
      "_view_name": "LayoutView",
      "align_content": null,
      "align_items": null,
      "align_self": null,
      "border": null,
      "bottom": null,
      "display": null,
      "flex": null,
      "flex_flow": null,
      "grid_area": null,
      "grid_auto_columns": null,
      "grid_auto_flow": null,
      "grid_auto_rows": null,
      "grid_column": null,
      "grid_gap": null,
      "grid_row": null,
      "grid_template_areas": null,
      "grid_template_columns": null,
      "grid_template_rows": null,
      "height": null,
      "justify_content": null,
      "justify_items": null,
      "left": null,
      "margin": null,
      "max_height": null,
      "max_width": null,
      "min_height": null,
      "min_width": null,
      "object_fit": null,
      "object_position": null,
      "order": null,
      "overflow": null,
      "overflow_x": null,
      "overflow_y": null,
      "padding": null,
      "right": null,
      "top": null,
      "visibility": null,
      "width": null
     }
    },
    "bc51cdcc5e0849878f3bfa94dbed4de6": {
     "model_module": "@jupyter-widgets/controls",
     "model_module_version": "1.5.0",
     "model_name": "FloatProgressModel",
     "state": {
      "_dom_classes": [],
      "_model_module": "@jupyter-widgets/controls",
      "_model_module_version": "1.5.0",
      "_model_name": "FloatProgressModel",
      "_view_count": null,
      "_view_module": "@jupyter-widgets/controls",
      "_view_module_version": "1.5.0",
      "_view_name": "ProgressView",
      "bar_style": "success",
      "description": "",
      "description_tooltip": null,
      "layout": "IPY_MODEL_1c40d3c7131f45b4854b3b921a7d34a6",
      "max": 5174,
      "min": 0,
      "orientation": "horizontal",
      "style": "IPY_MODEL_8569b46505c341d486f9654c952cf288",
      "value": 5174
     }
    },
    "bff754cedf324f848a69f95f182cac7d": {
     "model_module": "@jupyter-widgets/controls",
     "model_module_version": "1.5.0",
     "model_name": "HTMLModel",
     "state": {
      "_dom_classes": [],
      "_model_module": "@jupyter-widgets/controls",
      "_model_module_version": "1.5.0",
      "_model_name": "HTMLModel",
      "_view_count": null,
      "_view_module": "@jupyter-widgets/controls",
      "_view_module_version": "1.5.0",
      "_view_name": "HTMLView",
      "description": "",
      "description_tooltip": null,
      "layout": "IPY_MODEL_d38570f54b6e4122b8699612bfe079c7",
      "placeholder": "​",
      "style": "IPY_MODEL_f11f6bf90fc84370816a0d7faca206b3",
      "value": " 20.8k/20.8k [00:00&lt;00:00, 1.11MB/s]"
     }
    },
    "c007a8ff5c0d460d85f58abf87ee5eff": {
     "model_module": "@jupyter-widgets/controls",
     "model_module_version": "1.5.0",
     "model_name": "DescriptionStyleModel",
     "state": {
      "_model_module": "@jupyter-widgets/controls",
      "_model_module_version": "1.5.0",
      "_model_name": "DescriptionStyleModel",
      "_view_count": null,
      "_view_module": "@jupyter-widgets/base",
      "_view_module_version": "1.2.0",
      "_view_name": "StyleView",
      "description_width": ""
     }
    },
    "c0935ce5cb8046c8aa1f41af7b551f4d": {
     "model_module": "@jupyter-widgets/controls",
     "model_module_version": "1.5.0",
     "model_name": "DescriptionStyleModel",
     "state": {
      "_model_module": "@jupyter-widgets/controls",
      "_model_module_version": "1.5.0",
      "_model_name": "DescriptionStyleModel",
      "_view_count": null,
      "_view_module": "@jupyter-widgets/base",
      "_view_module_version": "1.2.0",
      "_view_name": "StyleView",
      "description_width": ""
     }
    },
    "c4a55301926b4ca1ad5f8fad8e2abed8": {
     "model_module": "@jupyter-widgets/controls",
     "model_module_version": "1.5.0",
     "model_name": "ProgressStyleModel",
     "state": {
      "_model_module": "@jupyter-widgets/controls",
      "_model_module_version": "1.5.0",
      "_model_name": "ProgressStyleModel",
      "_view_count": null,
      "_view_module": "@jupyter-widgets/base",
      "_view_module_version": "1.2.0",
      "_view_name": "StyleView",
      "bar_color": null,
      "description_width": ""
     }
    },
    "c66347b93eee4bdd8ca17e55f079e444": {
     "model_module": "@jupyter-widgets/controls",
     "model_module_version": "1.5.0",
     "model_name": "HTMLModel",
     "state": {
      "_dom_classes": [],
      "_model_module": "@jupyter-widgets/controls",
      "_model_module_version": "1.5.0",
      "_model_name": "HTMLModel",
      "_view_count": null,
      "_view_module": "@jupyter-widgets/controls",
      "_view_module_version": "1.5.0",
      "_view_name": "HTMLView",
      "description": "",
      "description_tooltip": null,
      "layout": "IPY_MODEL_569c96a2ad3d4a25957f04f70c840f00",
      "placeholder": "​",
      "style": "IPY_MODEL_b75a2d49e22c4cb081b712600b56b9b5",
      "value": " 1.76G/1.76G [00:36&lt;00:00, 48.1MB/s]"
     }
    },
    "c942d185b0d5462faf52ab9cfc4f3c49": {
     "model_module": "@jupyter-widgets/controls",
     "model_module_version": "1.5.0",
     "model_name": "FloatProgressModel",
     "state": {
      "_dom_classes": [],
      "_model_module": "@jupyter-widgets/controls",
      "_model_module_version": "1.5.0",
      "_model_name": "FloatProgressModel",
      "_view_count": null,
      "_view_module": "@jupyter-widgets/controls",
      "_view_module_version": "1.5.0",
      "_view_name": "ProgressView",
      "bar_style": "success",
      "description": "",
      "description_tooltip": null,
      "layout": "IPY_MODEL_dc32531a0e82477fa1943b9e1e7a552e",
      "max": 1755805420,
      "min": 0,
      "orientation": "horizontal",
      "style": "IPY_MODEL_02dd3e4e4c8a48259287bb770d7e70d0",
      "value": 1755805420
     }
    },
    "cf6980617c6f4806a7c5139751de9703": {
     "model_module": "@jupyter-widgets/base",
     "model_module_version": "1.2.0",
     "model_name": "LayoutModel",
     "state": {
      "_model_module": "@jupyter-widgets/base",
      "_model_module_version": "1.2.0",
      "_model_name": "LayoutModel",
      "_view_count": null,
      "_view_module": "@jupyter-widgets/base",
      "_view_module_version": "1.2.0",
      "_view_name": "LayoutView",
      "align_content": null,
      "align_items": null,
      "align_self": null,
      "border": null,
      "bottom": null,
      "display": null,
      "flex": null,
      "flex_flow": null,
      "grid_area": null,
      "grid_auto_columns": null,
      "grid_auto_flow": null,
      "grid_auto_rows": null,
      "grid_column": null,
      "grid_gap": null,
      "grid_row": null,
      "grid_template_areas": null,
      "grid_template_columns": null,
      "grid_template_rows": null,
      "height": null,
      "justify_content": null,
      "justify_items": null,
      "left": null,
      "margin": null,
      "max_height": null,
      "max_width": null,
      "min_height": null,
      "min_width": null,
      "object_fit": null,
      "object_position": null,
      "order": null,
      "overflow": null,
      "overflow_x": null,
      "overflow_y": null,
      "padding": null,
      "right": null,
      "top": null,
      "visibility": null,
      "width": null
     }
    },
    "cf74b7662a22492b8a9051b80997df18": {
     "model_module": "@jupyter-widgets/controls",
     "model_module_version": "1.5.0",
     "model_name": "HBoxModel",
     "state": {
      "_dom_classes": [],
      "_model_module": "@jupyter-widgets/controls",
      "_model_module_version": "1.5.0",
      "_model_name": "HBoxModel",
      "_view_count": null,
      "_view_module": "@jupyter-widgets/controls",
      "_view_module_version": "1.5.0",
      "_view_name": "HBoxView",
      "box_style": "",
      "children": [
       "IPY_MODEL_9f02f1bfe1bc47f98df7d6218cf8546c",
       "IPY_MODEL_4de2d81d2d3345c590a39e745ad5cccd",
       "IPY_MODEL_bff754cedf324f848a69f95f182cac7d"
      ],
      "layout": "IPY_MODEL_10ba1649ddb7466b91f7377df3d29637"
     }
    },
    "d38570f54b6e4122b8699612bfe079c7": {
     "model_module": "@jupyter-widgets/base",
     "model_module_version": "1.2.0",
     "model_name": "LayoutModel",
     "state": {
      "_model_module": "@jupyter-widgets/base",
      "_model_module_version": "1.2.0",
      "_model_name": "LayoutModel",
      "_view_count": null,
      "_view_module": "@jupyter-widgets/base",
      "_view_module_version": "1.2.0",
      "_view_name": "LayoutView",
      "align_content": null,
      "align_items": null,
      "align_self": null,
      "border": null,
      "bottom": null,
      "display": null,
      "flex": null,
      "flex_flow": null,
      "grid_area": null,
      "grid_auto_columns": null,
      "grid_auto_flow": null,
      "grid_auto_rows": null,
      "grid_column": null,
      "grid_gap": null,
      "grid_row": null,
      "grid_template_areas": null,
      "grid_template_columns": null,
      "grid_template_rows": null,
      "height": null,
      "justify_content": null,
      "justify_items": null,
      "left": null,
      "margin": null,
      "max_height": null,
      "max_width": null,
      "min_height": null,
      "min_width": null,
      "object_fit": null,
      "object_position": null,
      "order": null,
      "overflow": null,
      "overflow_x": null,
      "overflow_y": null,
      "padding": null,
      "right": null,
      "top": null,
      "visibility": null,
      "width": null
     }
    },
    "d38b77c506ca43fe9b88ecfa1f35204a": {
     "model_module": "@jupyter-widgets/controls",
     "model_module_version": "1.5.0",
     "model_name": "HTMLModel",
     "state": {
      "_dom_classes": [],
      "_model_module": "@jupyter-widgets/controls",
      "_model_module_version": "1.5.0",
      "_model_name": "HTMLModel",
      "_view_count": null,
      "_view_module": "@jupyter-widgets/controls",
      "_view_module_version": "1.5.0",
      "_view_name": "HTMLView",
      "description": "",
      "description_tooltip": null,
      "layout": "IPY_MODEL_50b7ebc8bf414fa68b84943165eb0cb4",
      "placeholder": "​",
      "style": "IPY_MODEL_c007a8ff5c0d460d85f58abf87ee5eff",
      "value": " 5.17k/5.17k [00:00&lt;00:00, 320kB/s]"
     }
    },
    "d78d3fcf2cd04725851ab1ba40af2e5b": {
     "model_module": "@jupyter-widgets/controls",
     "model_module_version": "1.5.0",
     "model_name": "DescriptionStyleModel",
     "state": {
      "_model_module": "@jupyter-widgets/controls",
      "_model_module_version": "1.5.0",
      "_model_name": "DescriptionStyleModel",
      "_view_count": null,
      "_view_module": "@jupyter-widgets/base",
      "_view_module_version": "1.2.0",
      "_view_name": "StyleView",
      "description_width": ""
     }
    },
    "dc32531a0e82477fa1943b9e1e7a552e": {
     "model_module": "@jupyter-widgets/base",
     "model_module_version": "1.2.0",
     "model_name": "LayoutModel",
     "state": {
      "_model_module": "@jupyter-widgets/base",
      "_model_module_version": "1.2.0",
      "_model_name": "LayoutModel",
      "_view_count": null,
      "_view_module": "@jupyter-widgets/base",
      "_view_module_version": "1.2.0",
      "_view_name": "LayoutView",
      "align_content": null,
      "align_items": null,
      "align_self": null,
      "border": null,
      "bottom": null,
      "display": null,
      "flex": null,
      "flex_flow": null,
      "grid_area": null,
      "grid_auto_columns": null,
      "grid_auto_flow": null,
      "grid_auto_rows": null,
      "grid_column": null,
      "grid_gap": null,
      "grid_row": null,
      "grid_template_areas": null,
      "grid_template_columns": null,
      "grid_template_rows": null,
      "height": null,
      "justify_content": null,
      "justify_items": null,
      "left": null,
      "margin": null,
      "max_height": null,
      "max_width": null,
      "min_height": null,
      "min_width": null,
      "object_fit": null,
      "object_position": null,
      "order": null,
      "overflow": null,
      "overflow_x": null,
      "overflow_y": null,
      "padding": null,
      "right": null,
      "top": null,
      "visibility": null,
      "width": null
     }
    },
    "dcd6ad719da34c35bf25268d9d8fcf4e": {
     "model_module": "@jupyter-widgets/base",
     "model_module_version": "1.2.0",
     "model_name": "LayoutModel",
     "state": {
      "_model_module": "@jupyter-widgets/base",
      "_model_module_version": "1.2.0",
      "_model_name": "LayoutModel",
      "_view_count": null,
      "_view_module": "@jupyter-widgets/base",
      "_view_module_version": "1.2.0",
      "_view_name": "LayoutView",
      "align_content": null,
      "align_items": null,
      "align_self": null,
      "border": null,
      "bottom": null,
      "display": null,
      "flex": null,
      "flex_flow": null,
      "grid_area": null,
      "grid_auto_columns": null,
      "grid_auto_flow": null,
      "grid_auto_rows": null,
      "grid_column": null,
      "grid_gap": null,
      "grid_row": null,
      "grid_template_areas": null,
      "grid_template_columns": null,
      "grid_template_rows": null,
      "height": null,
      "justify_content": null,
      "justify_items": null,
      "left": null,
      "margin": null,
      "max_height": null,
      "max_width": null,
      "min_height": null,
      "min_width": null,
      "object_fit": null,
      "object_position": null,
      "order": null,
      "overflow": null,
      "overflow_x": null,
      "overflow_y": null,
      "padding": null,
      "right": null,
      "top": null,
      "visibility": null,
      "width": null
     }
    },
    "e0f9e9b3ace34c8b8206a3ebab1a9e24": {
     "model_module": "@jupyter-widgets/controls",
     "model_module_version": "1.5.0",
     "model_name": "FloatProgressModel",
     "state": {
      "_dom_classes": [],
      "_model_module": "@jupyter-widgets/controls",
      "_model_module_version": "1.5.0",
      "_model_name": "FloatProgressModel",
      "_view_count": null,
      "_view_module": "@jupyter-widgets/controls",
      "_view_module_version": "1.5.0",
      "_view_name": "ProgressView",
      "bar_style": "success",
      "description": "",
      "description_tooltip": null,
      "layout": "IPY_MODEL_b1c3cf3301db43b7a663ad271f3d5fe7",
      "max": 2424257,
      "min": 0,
      "orientation": "horizontal",
      "style": "IPY_MODEL_73f20d75acb94f758b06f3cfb0d4ebec",
      "value": 2424257
     }
    },
    "e167b1295b614439a34a935d68caf121": {
     "model_module": "@jupyter-widgets/controls",
     "model_module_version": "1.5.0",
     "model_name": "FloatProgressModel",
     "state": {
      "_dom_classes": [],
      "_model_module": "@jupyter-widgets/controls",
      "_model_module_version": "1.5.0",
      "_model_name": "FloatProgressModel",
      "_view_count": null,
      "_view_module": "@jupyter-widgets/controls",
      "_view_module_version": "1.5.0",
      "_view_name": "ProgressView",
      "bar_style": "success",
      "description": "",
      "description_tooltip": null,
      "layout": "IPY_MODEL_b8de335a25164231856433c63990c47a",
      "max": 2543,
      "min": 0,
      "orientation": "horizontal",
      "style": "IPY_MODEL_4985683c712540e9b27f4361f3fce58d",
      "value": 2543
     }
    },
    "e7a5f61186184c5f953792705e0a3378": {
     "model_module": "@jupyter-widgets/base",
     "model_module_version": "1.2.0",
     "model_name": "LayoutModel",
     "state": {
      "_model_module": "@jupyter-widgets/base",
      "_model_module_version": "1.2.0",
      "_model_name": "LayoutModel",
      "_view_count": null,
      "_view_module": "@jupyter-widgets/base",
      "_view_module_version": "1.2.0",
      "_view_name": "LayoutView",
      "align_content": null,
      "align_items": null,
      "align_self": null,
      "border": null,
      "bottom": null,
      "display": null,
      "flex": null,
      "flex_flow": null,
      "grid_area": null,
      "grid_auto_columns": null,
      "grid_auto_flow": null,
      "grid_auto_rows": null,
      "grid_column": null,
      "grid_gap": null,
      "grid_row": null,
      "grid_template_areas": null,
      "grid_template_columns": null,
      "grid_template_rows": null,
      "height": null,
      "justify_content": null,
      "justify_items": null,
      "left": null,
      "margin": null,
      "max_height": null,
      "max_width": null,
      "min_height": null,
      "min_width": null,
      "object_fit": null,
      "object_position": null,
      "order": null,
      "overflow": null,
      "overflow_x": null,
      "overflow_y": null,
      "padding": null,
      "right": null,
      "top": null,
      "visibility": null,
      "width": null
     }
    },
    "e7c03bc1246a40ae9697957587f9bf73": {
     "model_module": "@jupyter-widgets/controls",
     "model_module_version": "1.5.0",
     "model_name": "HTMLModel",
     "state": {
      "_dom_classes": [],
      "_model_module": "@jupyter-widgets/controls",
      "_model_module_version": "1.5.0",
      "_model_name": "HTMLModel",
      "_view_count": null,
      "_view_module": "@jupyter-widgets/controls",
      "_view_module_version": "1.5.0",
      "_view_name": "HTMLView",
      "description": "",
      "description_tooltip": null,
      "layout": "IPY_MODEL_9c6e68da3a9f484093a3af7188c7e6d3",
      "placeholder": "​",
      "style": "IPY_MODEL_418ee4e8dc424344a9820d154b64f2b3",
      "value": "tokenizer.json: 100%"
     }
    },
    "ebbeb3e486ca4327bdb5481bd658ddac": {
     "model_module": "@jupyter-widgets/base",
     "model_module_version": "1.2.0",
     "model_name": "LayoutModel",
     "state": {
      "_model_module": "@jupyter-widgets/base",
      "_model_module_version": "1.2.0",
      "_model_name": "LayoutModel",
      "_view_count": null,
      "_view_module": "@jupyter-widgets/base",
      "_view_module_version": "1.2.0",
      "_view_name": "LayoutView",
      "align_content": null,
      "align_items": null,
      "align_self": null,
      "border": null,
      "bottom": null,
      "display": null,
      "flex": null,
      "flex_flow": null,
      "grid_area": null,
      "grid_auto_columns": null,
      "grid_auto_flow": null,
      "grid_auto_rows": null,
      "grid_column": null,
      "grid_gap": null,
      "grid_row": null,
      "grid_template_areas": null,
      "grid_template_columns": null,
      "grid_template_rows": null,
      "height": null,
      "justify_content": null,
      "justify_items": null,
      "left": null,
      "margin": null,
      "max_height": null,
      "max_width": null,
      "min_height": null,
      "min_width": null,
      "object_fit": null,
      "object_position": null,
      "order": null,
      "overflow": null,
      "overflow_x": null,
      "overflow_y": null,
      "padding": null,
      "right": null,
      "top": null,
      "visibility": null,
      "width": null
     }
    },
    "ebc4a05f2e614847b9f4baa4588341ac": {
     "model_module": "@jupyter-widgets/controls",
     "model_module_version": "1.5.0",
     "model_name": "HBoxModel",
     "state": {
      "_dom_classes": [],
      "_model_module": "@jupyter-widgets/controls",
      "_model_module_version": "1.5.0",
      "_model_name": "HBoxModel",
      "_view_count": null,
      "_view_module": "@jupyter-widgets/controls",
      "_view_module_version": "1.5.0",
      "_view_name": "HBoxView",
      "box_style": "",
      "children": [
       "IPY_MODEL_3b9593d562f046a4a2b90b222684c8a7",
       "IPY_MODEL_b69a33014b934812aedf8d04f63cdcb7",
       "IPY_MODEL_280fdc542a39472f923747ed5d1db95f"
      ],
      "layout": "IPY_MODEL_054e1cf1207d41cc8cb1f075f3d6fc7b"
     }
    },
    "f11f6bf90fc84370816a0d7faca206b3": {
     "model_module": "@jupyter-widgets/controls",
     "model_module_version": "1.5.0",
     "model_name": "DescriptionStyleModel",
     "state": {
      "_model_module": "@jupyter-widgets/controls",
      "_model_module_version": "1.5.0",
      "_model_name": "DescriptionStyleModel",
      "_view_count": null,
      "_view_module": "@jupyter-widgets/base",
      "_view_module_version": "1.2.0",
      "_view_name": "StyleView",
      "description_width": ""
     }
    },
    "f8efabee5347446fb3142723901455cc": {
     "model_module": "@jupyter-widgets/controls",
     "model_module_version": "1.5.0",
     "model_name": "HBoxModel",
     "state": {
      "_dom_classes": [],
      "_model_module": "@jupyter-widgets/controls",
      "_model_module_version": "1.5.0",
      "_model_name": "HBoxModel",
      "_view_count": null,
      "_view_module": "@jupyter-widgets/controls",
      "_view_module_version": "1.5.0",
      "_view_name": "HBoxView",
      "box_style": "",
      "children": [
       "IPY_MODEL_9c8a3091b33f4c6fb7837a14de6533e3",
       "IPY_MODEL_e167b1295b614439a34a935d68caf121",
       "IPY_MODEL_6618a12cef33478aacb27e8aee806239"
      ],
      "layout": "IPY_MODEL_42807efedec242c4be94ed83070fcc3d"
     }
    },
    "fb3617ceb45c40a28fbd002be9d7b435": {
     "model_module": "@jupyter-widgets/base",
     "model_module_version": "1.2.0",
     "model_name": "LayoutModel",
     "state": {
      "_model_module": "@jupyter-widgets/base",
      "_model_module_version": "1.2.0",
      "_model_name": "LayoutModel",
      "_view_count": null,
      "_view_module": "@jupyter-widgets/base",
      "_view_module_version": "1.2.0",
      "_view_name": "LayoutView",
      "align_content": null,
      "align_items": null,
      "align_self": null,
      "border": null,
      "bottom": null,
      "display": null,
      "flex": null,
      "flex_flow": null,
      "grid_area": null,
      "grid_auto_columns": null,
      "grid_auto_flow": null,
      "grid_auto_rows": null,
      "grid_column": null,
      "grid_gap": null,
      "grid_row": null,
      "grid_template_areas": null,
      "grid_template_columns": null,
      "grid_template_rows": null,
      "height": null,
      "justify_content": null,
      "justify_items": null,
      "left": null,
      "margin": null,
      "max_height": null,
      "max_width": null,
      "min_height": null,
      "min_width": null,
      "object_fit": null,
      "object_position": null,
      "order": null,
      "overflow": null,
      "overflow_x": null,
      "overflow_y": null,
      "padding": null,
      "right": null,
      "top": null,
      "visibility": null,
      "width": null
     }
    },
    "fc3e258bb4024ed49ce4d5b9361df994": {
     "model_module": "@jupyter-widgets/base",
     "model_module_version": "1.2.0",
     "model_name": "LayoutModel",
     "state": {
      "_model_module": "@jupyter-widgets/base",
      "_model_module_version": "1.2.0",
      "_model_name": "LayoutModel",
      "_view_count": null,
      "_view_module": "@jupyter-widgets/base",
      "_view_module_version": "1.2.0",
      "_view_name": "LayoutView",
      "align_content": null,
      "align_items": null,
      "align_self": null,
      "border": null,
      "bottom": null,
      "display": null,
      "flex": null,
      "flex_flow": null,
      "grid_area": null,
      "grid_auto_columns": null,
      "grid_auto_flow": null,
      "grid_auto_rows": null,
      "grid_column": null,
      "grid_gap": null,
      "grid_row": null,
      "grid_template_areas": null,
      "grid_template_columns": null,
      "grid_template_rows": null,
      "height": null,
      "justify_content": null,
      "justify_items": null,
      "left": null,
      "margin": null,
      "max_height": null,
      "max_width": null,
      "min_height": null,
      "min_width": null,
      "object_fit": null,
      "object_position": null,
      "order": null,
      "overflow": null,
      "overflow_x": null,
      "overflow_y": null,
      "padding": null,
      "right": null,
      "top": null,
      "visibility": null,
      "width": null
     }
    }
   }
  }
 },
 "nbformat": 4,
 "nbformat_minor": 4
}
